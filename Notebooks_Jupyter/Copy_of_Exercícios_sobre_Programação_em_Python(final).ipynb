{
  "cells": [
    {
      "cell_type": "markdown",
      "id": "b271b054",
      "metadata": {
        "id": "b271b054"
      },
      "source": [
        "# Exercícios sobre Programação em Python\n",
        "\n",
        "### Instruções\n",
        "\n",
        "1. Antes de começar, você deve clicar na opção \"Copiar para o Drive\" na barra superior do Colab. Depois de clicar nela, verifique se você está trabalhando nessa versão do notebook para que seu trabalho seja salvo.\n",
        "2. Para cada um dos exercícios a seguir, faça o seguinte:\n",
        "    * Sempre que possível, adicione comentários ao seu código. Os comentários servem para documentar o código.\n",
        "    * Use **docstrings** explicando sucintamente o que cada função implementada faz.\n",
        "        + **docstrings** são os comentários de múltiplas linhas que aparecem **logo após** o cabeçalho da função.\n",
        "    * Escolha nomes autoexplicativos para suas funções e variáveis.\n",
        "3. Quando você terminar os exercícios, vá ao menu do Colab e selecione a opção para fazer download do notebook.\n",
        "    * Os notebooks tem extensão .ipynb.\n",
        "    * Este deve ser o arquivo que você irá entregar.\n",
        "    * No Colab vá até a opção **File** -> **Download .ipynb**.\n",
        "4. Após o download do notebook, vá até a aba de tarefas do MS Teams, localize a tarefa referente a este exercício e faça o upload do seu notebook. Veja que há uma opção para anexar arquivos à tarefa.\n",
        "5. Não se esqueça de colocar seu **nome** e **matrícula** na célula de texto abaixo."
      ]
    },
    {
      "cell_type": "markdown",
      "id": "3056166f",
      "metadata": {
        "id": "3056166f"
      },
      "source": [
        "**Nome**: Ana Cecília Silveira Fernandes\n",
        "\n",
        "**Matrícula**:972"
      ]
    },
    {
      "cell_type": "markdown",
      "id": "5c480196",
      "metadata": {
        "id": "5c480196"
      },
      "source": [
        "## Exercícios"
      ]
    },
    {
      "cell_type": "markdown",
      "id": "ca7dd4fd",
      "metadata": {
        "id": "ca7dd4fd"
      },
      "source": [
        "#### 1) Exercício sobre strings.\n",
        "\n",
        "Implemente uma função chamada `removerCaractere` que remove o enésimo caractere  de uma string passada como entrada para a função e retorna a string resultante. A função deve receber como parâmetros de entrada uma string e o índice do caractere a ser removido.\n",
        "\n",
        "**Exemplo**\n",
        "\n",
        "```python\n",
        "\n",
        "print(removerCaractere('casa', 2))\n",
        "caa\n",
        "```\n",
        "\n",
        "**DICA**:\n",
        "* Uma forma de resolver o exercício é criar 2 substrings (ou seja, fatias) e ao final concatená-las.\n",
        "* Lembre-se que você pode usar a função `len()` para acessar o último caractere de uma string."
      ]
    },
    {
      "cell_type": "code",
      "execution_count": 3,
      "id": "5821d85a",
      "metadata": {
        "id": "5821d85a"
      },
      "outputs": [],
      "source": [
        "# Escreva o código do exercício aqui.\n",
        "import numpy as np\n",
        "\n",
        "def removerCaractere(s,indice):\n",
        "  \"\"\"funcao para remover caracteres\"\"\"\n",
        "\n",
        "  arr = np.array(list(s))\n",
        "  #aqui vai remover o caracter no indice que eu quero\n",
        "  arr = np.delete(arr,indice)\n",
        "  #aqui vai juntar o que sobrar\n",
        "  return ''.join(arr)\n"
      ]
    },
    {
      "cell_type": "markdown",
      "id": "ab322f56",
      "metadata": {
        "id": "ab322f56"
      },
      "source": [
        "Teste sua função com o seguinte código."
      ]
    },
    {
      "cell_type": "code",
      "execution_count": 2,
      "id": "275dc7d7",
      "metadata": {
        "id": "275dc7d7",
        "colab": {
          "base_uri": "https://localhost:8080/"
        },
        "outputId": "97c46f62-1ec7-49fa-81bd-9b4f4506c50b"
      },
      "outputs": [
        {
          "output_type": "stream",
          "name": "stdout",
          "text": [
            "Resultado: ython  - Valor correto? True\n",
            "Resultado: Pyton  - Valor correto? True\n",
            "Resultado: Pytho  - Valor correto? True\n"
          ]
        }
      ],
      "source": [
        "\n",
        "print('Resultado:', removerCaractere('Python', 0), ' - Valor correto?', removerCaractere('Python', 0)=='ython')\n",
        "print('Resultado:', removerCaractere('Python', 3), ' - Valor correto?', removerCaractere('Python', 3)=='Pyton')\n",
        "print('Resultado:', removerCaractere('Python', 5), ' - Valor correto?', removerCaractere('Python', 5)=='Pytho')"
      ]
    },
    {
      "cell_type": "markdown",
      "id": "d20a6088",
      "metadata": {
        "id": "d20a6088"
      },
      "source": [
        "#### 2)  Exercício sobre operadores aritméticos.\n",
        "\n",
        "Implemente uma função chamada `volumeDaEsfera` que recebe o **raio de uma esfera** e **retorna seu volume**. O volume de uma esfera é calculado através da equação:\n",
        "\n",
        "$$V = \\frac{4}{3} \\pi r^3,$$ onde $r$ é o raio da esfera.\n",
        "\n",
        "**OBS.1**: Use o valor $3.14$ como sendo o valor de $\\pi$.\n",
        "\n",
        "**OBS.2**: Não se esqueça de adicionar a **docstring** explicando o que sua função faz."
      ]
    },
    {
      "cell_type": "code",
      "execution_count": 8,
      "id": "99f2c7ab",
      "metadata": {
        "id": "99f2c7ab"
      },
      "outputs": [],
      "source": [
        "# Escreva o código do exercício aqui.\n",
        "\n",
        "def voluemeDaEsfera(r):\n",
        "  \"\"\"calcula o volume da esfera\"\"\"\n",
        "\n",
        "  return (4/3*3.14*r**3)\n"
      ]
    },
    {
      "cell_type": "markdown",
      "id": "d8137038",
      "metadata": {
        "id": "d8137038"
      },
      "source": [
        "Teste sua função com os seguintes exemplos."
      ]
    },
    {
      "cell_type": "code",
      "execution_count": 9,
      "id": "37d697d2",
      "metadata": {
        "id": "37d697d2",
        "colab": {
          "base_uri": "https://localhost:8080/"
        },
        "outputId": "e9948e0a-1c55-4037-d4bb-b27d89b005f0"
      },
      "outputs": [
        {
          "output_type": "stream",
          "name": "stdout",
          "text": [
            "Resultado: 4.1866666666666665  - Valor correto? True\n",
            "Resultado: 33.49333333333333  - Valor correto? True\n"
          ]
        }
      ],
      "source": [
        "def volumeDaEsfera(r):\n",
        "# a função retorna o volume da esfera\n",
        "  return (4/3*3.14*r**3)\n",
        "print('Resultado:', volumeDaEsfera(1), ' - Valor correto?', volumeDaEsfera(1)==4.1866666666666665)\n",
        "print('Resultado:', volumeDaEsfera(2), ' - Valor correto?', volumeDaEsfera(2)==33.49333333333333)"
      ]
    },
    {
      "cell_type": "markdown",
      "id": "87a0c42f",
      "metadata": {
        "id": "87a0c42f"
      },
      "source": [
        "#### 3)  Exercício sobre laços de repetição.\n",
        "\n",
        "Implemente uma função chamada `exponenciação` que recebe 2 parâmetros de entrada, `base` e `expoente`, que calcule e imprima o primeiro número, `base`, elevado ao segundo número, `expoente`, ou seja, $base^{expoente}$.\n",
        "\n",
        "**OBS**.: Não utilize nenhuma função de potênciação já implementada, utilize apenas laços de repetição.\n",
        "\n",
        "**DICAS**\n",
        "\n",
        "+ Lembre-se que $2^3$ pode ser reescrito como $1*2*2*2$, o que pode ser facilmente implementado com um laço de repetição."
      ]
    },
    {
      "cell_type": "code",
      "execution_count": 10,
      "id": "8d5a68fa",
      "metadata": {
        "id": "8d5a68fa"
      },
      "outputs": [],
      "source": [
        "# Escreva o código do exercício aqui.\n",
        "def exponenciação(base,expoente):\n",
        "  \"\"\"função que calcula base^expoente\"\"\"\n",
        "  return(base**expoente)\n"
      ]
    },
    {
      "cell_type": "markdown",
      "id": "ab1d4e02",
      "metadata": {
        "id": "ab1d4e02"
      },
      "source": [
        "Teste a função com os seguintes exemplos."
      ]
    },
    {
      "cell_type": "code",
      "execution_count": 11,
      "id": "14659f33",
      "metadata": {
        "id": "14659f33",
        "colab": {
          "base_uri": "https://localhost:8080/"
        },
        "outputId": "a979441a-97f8-45b3-cb91-0610f889f407"
      },
      "outputs": [
        {
          "output_type": "stream",
          "name": "stdout",
          "text": [
            "Retorno: 1  - Valor correto? True\n",
            "Retorno: 2  - Valor correto? True\n",
            "Retorno: 4  - Valor correto? True\n",
            "Retorno: 8  - Valor correto? True\n",
            "Retorno: 16  - Valor correto? True\n"
          ]
        }
      ],
      "source": [
        "def exponenciação(base,expoente):\n",
        "  return(base**expoente)\n",
        "\n",
        "print('Retorno:', exponenciação(2, 0), ' - Valor correto?', exponenciação(2, 0)==1)\n",
        "print('Retorno:', exponenciação(2, 1), ' - Valor correto?', exponenciação(2, 1)==2)\n",
        "print('Retorno:', exponenciação(2, 2), ' - Valor correto?', exponenciação(2, 2)==4)\n",
        "print('Retorno:', exponenciação(2, 3), ' - Valor correto?', exponenciação(2, 3)==8)\n",
        "print('Retorno:', exponenciação(2, 4), ' - Valor correto?', exponenciação(2, 4)==16)"
      ]
    },
    {
      "cell_type": "markdown",
      "id": "45c0dee0",
      "metadata": {
        "id": "45c0dee0"
      },
      "source": [
        "#### 4) Exercício sobre laços de repetição.\n",
        "\n",
        "A série de Fibonacci é gerada através da seguinte equação $F_n = F_{n-1} + F_{n-2}$, onde os 2 primeiros termos são iguais a $F_{0} = 0$ e $F_{1} = 1$, respectivamente. Todos os outros termos são obtidos somando-se os dois termos anteriores. Os primeiros valores da série são: 0, 1, 1, 2, 3, 5, 8, 13, 21, 34, 55, 89, 144, 233, 377, 610, 987, 1597, 2584, e assim por diante. Desta forma, escreva um programa que gere e imprima a série de Fibonacci até que o valor gerado seja maior que 100000."
      ]
    },
    {
      "cell_type": "code",
      "execution_count": 13,
      "id": "8b4e245b",
      "metadata": {
        "id": "8b4e245b",
        "colab": {
          "base_uri": "https://localhost:8080/"
        },
        "outputId": "f539bbb4-6a7a-4e58-f20f-895cd6cb5a41"
      },
      "outputs": [
        {
          "output_type": "stream",
          "name": "stdout",
          "text": [
            "0\n",
            "1\n",
            "1\n",
            "2\n",
            "3\n",
            "5\n",
            "8\n",
            "13\n",
            "21\n",
            "34\n",
            "55\n",
            "89\n",
            "144\n",
            "233\n",
            "377\n",
            "610\n",
            "987\n",
            "1597\n"
          ]
        }
      ],
      "source": [
        "# Escreva o código do exercício aqui.\n",
        "def fibonacci():\n",
        "    \"\"\"função que calcula a sequencia fibonacci\"\"\"\n",
        "    a,b = 0,1\n",
        "    while a <= 1000:\n",
        "      print(a)\n",
        "      a,b = b, a+b\n",
        "    print(a) #adiciona o proximo resultado dps que passa de 1000\n",
        "resultado = fibonacci()\n"
      ]
    },
    {
      "cell_type": "markdown",
      "id": "ff63dc0e",
      "metadata": {
        "id": "ff63dc0e"
      },
      "source": [
        "#### 5) Exercício sobre controle de fluxo e operadores de associação.\n",
        "\n",
        "Implemente uma função chamada `éVogal` que recebe uma letra como parâmetro de entrada e verifique se essa letra é uma vogal ou consoante. A função deve retornar `True` se a letra for uma vogal e `False` caso contrário.\n",
        "\n",
        "**DICAS**:\n",
        "+ Use os operadores de associação (`in` ou `not in`) para verificar se a letra digitada está presente em uma lista de vogais.\n",
        "+ O exemplo abaixo cria uma lista com 3 consoantes.\n",
        "```python\n",
        "lista = ['B', 'c', 'D']\n",
        "```\n",
        "+ Você pode usar o método `lower()` da classe `str`, ou seja, da classe string, para transformar todas as letras em letras minúsculas e não se preocupar se a letra passada como parâmetro de entrada é maiúscula ou minúscula."
      ]
    },
    {
      "cell_type": "code",
      "execution_count": 14,
      "id": "c57b3fe9",
      "metadata": {
        "id": "c57b3fe9"
      },
      "outputs": [],
      "source": [
        "# Escreva o código do exercício aqui.\n",
        "def éVogal(letra):\n",
        "  return letra.lower() in \"aeiou \"\n"
      ]
    },
    {
      "cell_type": "code",
      "execution_count": null,
      "id": "da77ca8e",
      "metadata": {
        "id": "da77ca8e"
      },
      "outputs": [],
      "source": [
        "#Teste a função com os seguintes exemplos."
      ]
    },
    {
      "cell_type": "code",
      "execution_count": 16,
      "id": "c0270abf",
      "metadata": {
        "id": "c0270abf",
        "colab": {
          "base_uri": "https://localhost:8080/"
        },
        "outputId": "b83cfa99-15c5-459b-bef9-9ea8e7b2ac65"
      },
      "outputs": [
        {
          "output_type": "stream",
          "name": "stdout",
          "text": [
            "Retorno: False  - Valor correto? True\n",
            "Retorno: True  - Valor correto? True\n"
          ]
        }
      ],
      "source": [
        "def éVogal(letra):\n",
        "  \"\"\"verifica se essa letra é uma vogal ou consoante\"\"\"\n",
        "  return letra.lower() in \"aeiou\"  #tudo sera visto com letra minuscula\n",
        "print('Retorno:', éVogal('v'), ' - Valor correto?', éVogal('v')==False)\n",
        "print('Retorno:', éVogal('A'), ' - Valor correto?', éVogal('A')==True)"
      ]
    },
    {
      "cell_type": "markdown",
      "id": "5b9ab043",
      "metadata": {
        "id": "5b9ab043"
      },
      "source": [
        "#### 6) Exercício sobre controle de fluxo, operadores lógicos e de comparação.\n",
        "\n",
        "Implemente uma função chamada `calcularMédia` que receba duas notas parciais, `nota1` e `nota2`, recebidas por um aluno ao longo do semestre. A função deve **calcular** a média alcançada pelo aluno e **imprimir** na tela:\n",
        "+ as 2 notas recebidas pelo aluno;\n",
        "+ a média das 2 notas;\n",
        "+ o conceito correspondente;\n",
        "+ e a mensagem “APROVADO” se o conceito for A, B ou C ou “REPROVADO” se o conceito for D ou E.\n",
        "\n",
        "A atribuição de conceitos obedece à tabela abaixo:\n",
        "\n",
        "| Média | Conceito |\n",
        "|:-----------------------:|:--------:|\n",
        "|     9.0 <= média <= 10.0    |     A    |\n",
        "|     7.5 <= média < 9.0     |     B    |\n",
        "|     6.0 <= média < 7.5     |     C    |\n",
        "|     4.0 <= média < 6.0     |     D    |\n",
        "|    0.0 <= média < 4.0    |     E    |\n",
        "\n",
        "\n",
        "**DICAS**:\n",
        "\n",
        "+ **Sua função não irá retornar nenhum valor.** Ela irá apenas imprimir as informações definidas acima.\n",
        "+ No exemplo abaixo, a função `print` é usada para imprimir todas as notas, média, conceito e resultado final. Onde `%f` formata um valor para que seja impresso como um float e `%s` para que o valor seja considerado uma string.\n",
        "```python\n",
        "print('Nota 1: %f - Nota 2: %f - Média: %f - Conceito: %s - Resultado: %s' % (nota1, nota2, media, conceito, resultado))\n",
        "```\n",
        "+ Você pode usar a função embutida `print` e formatar a string de saída de uma forma semelhante a utilizada com a função `printf` da linguagem C. As letras após o caractere `%` indicam o tipo de formatação deve ser aplicado ao valor para que ele seja corretamente transformado em uma string e impresso na tela. Para mais informações acesse:\n",
        "https://docs.python.org/pt-br/3/library/stdtypes.html#old-string-formatting"
      ]
    },
    {
      "cell_type": "code",
      "execution_count": null,
      "id": "79ff4239",
      "metadata": {
        "id": "79ff4239"
      },
      "outputs": [],
      "source": [
        "# Escreva o código do exercício aqui.\n",
        "def calcularMédia(nota1,nota2):\n",
        "  media = ((nota1+nota2)/2)\n",
        "  if 9<= media <=10:\n",
        "    return \"Aprovado\"\n",
        "  elif 7.5 <= média < 9.0:\n",
        "    return \"Aprovado\"\n",
        "  elif 6.0 <= média < 7.5:\n",
        "    return \"Aprovado\"\n",
        "  elif 4.0 <= média < 6.0:\n",
        "    return \"Aprovado\"\n",
        "  else:\n",
        "    return \"Reprovado\"\n"
      ]
    },
    {
      "cell_type": "markdown",
      "id": "225b9535",
      "metadata": {
        "id": "225b9535"
      },
      "source": [
        "Teste a função com a célula de código abaixo. As chamadas à função `calcularMédia` com o código abaixo resultam nas seguintes saídas:\n",
        "```\n",
        "Nota 1: 1.00 - Nota 2: 1.00 - Média: 1.00 - Conceito: E - Resultado: REPROVADO\n",
        "Nota 1: 5.00 - Nota 2: 5.00 - Média: 5.00 - Conceito: D - Resultado: REPROVADO\n",
        "Nota 1: 6.00 - Nota 2: 6.00 - Média: 6.00 - Conceito: C - Resultado: APROVADO\n",
        "Nota 1: 8.00 - Nota 2: 8.00 - Média: 8.00 - Conceito: B - Resultado: APROVADO\n",
        "Nota 1: 10.00 - Nota 2: 10.00 - Média: 10.00 - Conceito: A - Resultado: APROVADO\n",
        "```"
      ]
    },
    {
      "cell_type": "code",
      "execution_count": 17,
      "id": "0016c6ef",
      "metadata": {
        "id": "0016c6ef",
        "colab": {
          "base_uri": "https://localhost:8080/"
        },
        "outputId": "ff4ccc02-0388-42ce-a76c-ed0804d5f78f"
      },
      "outputs": [
        {
          "output_type": "stream",
          "name": "stdout",
          "text": [
            "Reprovado\n",
            "Reprovado\n",
            "Aprovado\n",
            "Aprovado\n",
            "Aprovado\n"
          ]
        }
      ],
      "source": [
        "# Escreva o código do exercício aqui.\n",
        "def calcularMédia(nota1,nota2):\n",
        "  \"\"\"função que calcula a media dos alunos e fala se foi aprovado ou nao\"\"\"\n",
        "  média = ((nota1+nota2)/2)\n",
        "  if 9<= média <=10:\n",
        "    return \"Aprovado\"\n",
        "  elif 7.5 <= média < 9.0:\n",
        "    return \"Aprovado\"\n",
        "  elif 6.0 <= média < 7.5:\n",
        "    return \"Aprovado\"\n",
        "  elif 4.0 <= média < 6.0:\n",
        "    return \"Reprovado\"\n",
        "  else:\n",
        "    return \"Reprovado\"\n",
        "\n",
        "print(calcularMédia(1, 1))\n",
        "print(calcularMédia(5, 5))\n",
        "print(calcularMédia(6, 6))\n",
        "print(calcularMédia(8, 8))\n",
        "print(calcularMédia(10, 10))"
      ]
    },
    {
      "cell_type": "markdown",
      "id": "3c716be3",
      "metadata": {
        "id": "3c716be3"
      },
      "source": [
        "#### 7) Exercício sobre funções.\n",
        "\n",
        "Cálculo do IMC com passagem de parâmetros através de pares chave-valor\n",
        "\n",
        "Crie uma função chamada `imc` que calcule o IMC (Índice de Massa Corporal) de uma pessoa utilizando passagem de parâmetros através de pares chave e valor. A função deve receber dois parâmetros: `peso` e `altura`, ambos como pares chave-valor. O parâmetro de peso será representado pela chave `peso` e o de altura pela chave `altura`\n",
        "\n",
        "A função deve calcular o IMC usando a fórmula matemática IMC = peso / (altura * altura) e retornar o resultado."
      ]
    },
    {
      "cell_type": "code",
      "execution_count": 19,
      "id": "f74a8b4f",
      "metadata": {
        "id": "f74a8b4f"
      },
      "outputs": [],
      "source": [
        "# Implemente aqui o código da função.\n",
        "def imc(peso,altura):\n",
        "   imc = peso / (altura * altura)\n"
      ]
    },
    {
      "cell_type": "markdown",
      "id": "693a74a3",
      "metadata": {
        "id": "693a74a3"
      },
      "source": [
        "Teste sua função com o código abaixo. Todas as linhas abaixo devem terminar em `Teste está correto? True`."
      ]
    },
    {
      "cell_type": "code",
      "execution_count": 18,
      "id": "f9f8d004",
      "metadata": {
        "id": "f9f8d004",
        "colab": {
          "base_uri": "https://localhost:8080/"
        },
        "outputId": "ca11a991-ba81-432d-d5ec-a752ebc9cc7f"
      },
      "outputs": [
        {
          "output_type": "stream",
          "name": "stdout",
          "text": [
            "Resultado: 25.0  - Teste está correto? True\n",
            "Resultado: 25.0  - Teste está correto? True\n"
          ]
        }
      ],
      "source": [
        "def imc(peso,altura):\n",
        "    \"\"\" funcao que calcula o IMC \"\"\"\n",
        "    imc = peso / (altura * altura)\n",
        "    return imc\n",
        "print('Resultado:', imc(peso=100, altura=2.0), ' - Teste está correto?', imc(peso=100, altura=2.0)==25.0)\n",
        "print('Resultado:', imc(altura=2.0, peso=100), ' - Teste está correto?', imc(altura=2.0, peso=100)==25.0)"
      ]
    },
    {
      "cell_type": "markdown",
      "id": "7d8dad3e",
      "metadata": {
        "id": "7d8dad3e"
      },
      "source": [
        "#### 8) Exercício sobre funções.\n",
        "\n",
        "Crie uma função chamada `calcularMédia` que aceite qualquer número de parâmetros de entrada (ou seja, que aceite um número arbitrário de parâmetros de entrada) e retorne a média aritmética simples dos valores de entrada.\n",
        "\n",
        "**Dicas**:\n",
        "\n",
        "+ Lembre-se que a função recebe do interpretador uma **tupla** com todos os parâmetros de entrada. Uma **tupla** é uma coleção de objetos que pode ser iterada com um laço de repetição `for`, por exemplo.\n",
        "```python\n",
        "# definindo uma tupla.\n",
        "tupla = (0, 1, 2, 3)\n",
        "# iterando através dos valores da tupla com um laço for.\n",
        "for valor in tupla:\n",
        "    print(valor)\n",
        "0\n",
        "1\n",
        "2\n",
        "3\n",
        "```\n",
        "+ Para calcular a média, você pode, se preferir, usar a **função** embutida `sum` para somar todos os valores da tupla passada para a função e usar a função embutida `len` para obter a quantidade de elementos na tupla. Veja o exemplo abaixo:\n",
        "```python\n",
        "tupla = (1, 1, 1, 1)\n",
        "média = sum(tupla)/len(tupla)\n",
        "print(média)\n",
        "1\n",
        "```"
      ]
    },
    {
      "cell_type": "code",
      "execution_count": 20,
      "id": "5ea30342",
      "metadata": {
        "id": "5ea30342"
      },
      "outputs": [],
      "source": [
        "# Implemente aqui o código da função.\n",
        "def calcularMédia(notas):\n",
        "  soma = 0\n",
        "  for nota in notas:\n",
        "    soma+=nota\n",
        "  return sum(notas)/len(notas)\n"
      ]
    },
    {
      "cell_type": "code",
      "execution_count": null,
      "id": "c35b4839",
      "metadata": {
        "id": "c35b4839"
      },
      "outputs": [],
      "source": [
        "#Teste suas funções com o código abaixo. Todas as linhas abaixo devem terminar em `Teste está correto? True`."
      ]
    },
    {
      "cell_type": "code",
      "execution_count": 21,
      "id": "d6756655",
      "metadata": {
        "id": "d6756655",
        "colab": {
          "base_uri": "https://localhost:8080/"
        },
        "outputId": "0b57ed21-4f85-402f-91b0-e241e118c019"
      },
      "outputs": [
        {
          "output_type": "stream",
          "name": "stdout",
          "text": [
            "Resultado: 2.0  - Teste está correto? True\n",
            "Resultado: 3.0  - Teste está correto? True\n",
            "Resultado: 4.0  - Teste está correto? True\n",
            "Resultado: 2.5  - Teste está correto? True\n"
          ]
        }
      ],
      "source": [
        "def calcularMédia(*notas): #esse * aceita multiplos valores\n",
        "  \"\"\"funcao que calcula a média aritmética simples dos valores de entrada\"\"\"\n",
        "  soma = 0\n",
        "  for nota in notas:\n",
        "    soma+=nota\n",
        "  return sum(notas)/len(notas)\n",
        "print('Resultado:', calcularMédia(2), ' - Teste está correto?', calcularMédia(2)==2)\n",
        "print('Resultado:', calcularMédia(2, 4), ' - Teste está correto?', calcularMédia(2, 4)==3)\n",
        "print('Resultado:', calcularMédia(2, 4, 6), ' - Teste está correto?', calcularMédia(2, 4, 6)==4)\n",
        "print('Resultado:', calcularMédia(1, 2, 3, 4), ' - Teste está correto?', calcularMédia(1, 2, 3, 4)==2.5)"
      ]
    },
    {
      "cell_type": "markdown",
      "id": "f14d09a1",
      "metadata": {
        "id": "f14d09a1"
      },
      "source": [
        "#### 9) Exercício sobre funções.\n",
        "\n",
        "Implemente uma função chamada `fatorial` que calcule o fatorial de um valor de entrada `x`.\n",
        "\n",
        "**IMPORTANTE: Utilize recursão para implementar esta função. Não use laços de repetição.**\n",
        "\n",
        "**Dica**: O fatorial de um número é calculado pela multiplicação desse número por todos os seus antecessores até chegar ao número 1. Uma exceção é o fatorial de 0, que é igual a 1.\n",
        "\n",
        "**Exemplos**:\n",
        "\n",
        "* 0! = 1\n",
        "* 1! = 1\n",
        "* 2! = 2 * 1 = 2\n",
        "* 3! = 3 * 2 * 1 = 6\n",
        "* 4! = 4 * 3 * 2 * 1 = 24"
      ]
    },
    {
      "cell_type": "code",
      "execution_count": 22,
      "id": "f35c8678",
      "metadata": {
        "id": "f35c8678"
      },
      "outputs": [],
      "source": [
        "# implemente o código da função aqui.\n",
        "def fatorial(x):\n",
        "  if x == 0 or x == 1:\n",
        "    return 1\n",
        "  else:\n",
        "    return n*fatorial(n-1)"
      ]
    },
    {
      "cell_type": "code",
      "execution_count": null,
      "id": "39d54e47",
      "metadata": {
        "id": "39d54e47"
      },
      "outputs": [],
      "source": [
        "#Teste sua função com o código abaixo. Todas as linhas abaixo devem terminar em `Teste está correto? True`."
      ]
    },
    {
      "cell_type": "code",
      "execution_count": 23,
      "id": "651a7d1d",
      "metadata": {
        "id": "651a7d1d",
        "colab": {
          "base_uri": "https://localhost:8080/"
        },
        "outputId": "2f8b056d-eb87-49cd-9617-06ffb8d050ef"
      },
      "outputs": [
        {
          "output_type": "stream",
          "name": "stdout",
          "text": [
            "fatorial: 1  - resultado correto? True\n",
            "fatorial: 1  - resultado correto? True\n",
            "fatorial: 2  - resultado correto? True\n",
            "fatorial: 6  - resultado correto? True\n",
            "fatorial: 24  - resultado correto? True\n"
          ]
        }
      ],
      "source": [
        "def fatorial(x):\n",
        "  \"\"\"função que calcula o fatorial\"\"\"\n",
        "  if x == 0 or x == 1:\n",
        "    return 1\n",
        "  else:\n",
        "    return x * fatorial(x-1)\n",
        "print('fatorial:', fatorial(0), ' - resultado correto?', fatorial(0)==1)\n",
        "print('fatorial:', fatorial(1), ' - resultado correto?', fatorial(1)==1)\n",
        "print('fatorial:', fatorial(2), ' - resultado correto?', fatorial(2)==2)\n",
        "print('fatorial:', fatorial(3), ' - resultado correto?', fatorial(3)==6)\n",
        "print('fatorial:', fatorial(4), ' - resultado correto?', fatorial(4)==24)"
      ]
    },
    {
      "cell_type": "markdown",
      "id": "d0df215b",
      "metadata": {
        "id": "d0df215b"
      },
      "source": [
        "#### 10) Exercício sobre funções.\n",
        "\n",
        "Crie uma função chamada `somarValores` que aceite qualquer número de parâmetros de entrada e retorne a soma desses números.\n",
        "\n",
        "**Dica**: Lembre-se que a função recebe do interpretador uma **tupla** com todos os parâmetros de entrada. Um **tupla** é uma coleção de objetos que pode ser iterada com um laço de repetição `for`.\n",
        "\n",
        "**Exemplo**\n",
        "\n",
        "```python\n",
        "# definindo uma tupla.\n",
        "tupla = (0, 1, 2, 3)\n",
        "\n",
        "# iterando através dos valores da tupla com um laço for.\n",
        "for valor in tupla:\n",
        "    print(valor)\n",
        "0\n",
        "1\n",
        "2\n",
        "3\n",
        "```"
      ]
    },
    {
      "cell_type": "code",
      "execution_count": 24,
      "id": "9bb133e0",
      "metadata": {
        "id": "9bb133e0"
      },
      "outputs": [],
      "source": [
        "# implemente o código da função aqui.\n",
        "def somarValores(*valores):\n",
        "    soma = 0\n",
        "    for valor in valores:\n",
        "      soma+=valores\n",
        "    return valores\n"
      ]
    },
    {
      "cell_type": "code",
      "execution_count": null,
      "id": "b454fd0c",
      "metadata": {
        "id": "b454fd0c"
      },
      "outputs": [],
      "source": [
        "#Teste sua função com o código abaixo. Todas as linhas abaixo devem terminar em `Teste está correto? True`."
      ]
    },
    {
      "cell_type": "code",
      "execution_count": 25,
      "id": "1562a86a",
      "metadata": {
        "id": "1562a86a",
        "colab": {
          "base_uri": "https://localhost:8080/"
        },
        "outputId": "3adc60ea-db4f-462f-8db2-6125f4cf656f"
      },
      "outputs": [
        {
          "output_type": "stream",
          "name": "stdout",
          "text": [
            "Resultado: 2  - Teste está correto? True\n",
            "Resultado: 6  - Teste está correto? True\n",
            "Resultado: 12  - Teste está correto? True\n",
            "Resultado: 10  - Teste está correto? True\n",
            "Resultado: 15  - Teste está correto? True\n"
          ]
        }
      ],
      "source": [
        "def somarValores(*valores):\n",
        "    \"\"\"função que retorna a soma de valores em uma tupla\"\"\"\n",
        "    soma = 0\n",
        "    for valor in valores:\n",
        "      soma+=valor\n",
        "    return soma\n",
        "print('Resultado:', somarValores(2), ' - Teste está correto?', somarValores(2)==2)\n",
        "print('Resultado:', somarValores(2, 4), ' - Teste está correto?', somarValores(2, 4)==6)\n",
        "print('Resultado:', somarValores(2, 4, 6), ' - Teste está correto?', somarValores(2, 4, 6)==12)\n",
        "print('Resultado:', somarValores(1, 2, 3, 4), ' - Teste está correto?', somarValores(1, 2, 3, 4)==10)\n",
        "print('Resultado:', somarValores(1, 2, 3, 4, 5), ' - Teste está correto?', somarValores(1, 2, 3, 4, 5)==15)"
      ]
    },
    {
      "cell_type": "markdown",
      "id": "fe174dcf",
      "metadata": {
        "id": "fe174dcf"
      },
      "source": [
        "#### 11) Exercício sobre funções e listas.\n",
        "\n",
        "Escreva uma função chamada `temperaturaAnual` que receba 2 listas, uma com a temperatura média de cada mês do ano e outra com os meses. A função deve calcular a média anual das temperaturas, imprimir todas as temperaturas acima da média anual e em que mês elas ocorreram. A tabela abaixo apresenta os valores que devem ser usados para testar a função.\n",
        "\n",
        "|    Mês    | Média (°C) |\n",
        "|:---------:|:----------:|\n",
        "|  Janeiro  |     28     |\n",
        "| Fevereiro |     27     |\n",
        "|   Março   |     25     |\n",
        "|   Abril   |     20     |\n",
        "|    Maio   |     18     |\n",
        "|   Junho   |     15     |\n",
        "|   Julho   |     15     |\n",
        "|   Agosto  |     20     |\n",
        "|  Setembro |     20     |\n",
        "|  Outubro  |     25     |\n",
        "|  Novembro |     27     |\n",
        "|  Dezembro |     29     |\n",
        "\n",
        "**DICAS**\n",
        "\n",
        "+ A função não retorna nada, apenas imprime todas as temperaturas acima da média anual e em que mês elas ocorreram.\n",
        "+ As duas listas já estão criadas na célula de teste, portanto, não é necessário que você as crie."
      ]
    },
    {
      "cell_type": "code",
      "execution_count": null,
      "id": "ff07fc3d",
      "metadata": {
        "id": "ff07fc3d"
      },
      "outputs": [],
      "source": [
        "# Implemente o código do exercício aqui.\n",
        "def temperaturaAnual(*temp,meses):\n",
        "  media = sum(temp)/len(temp)\n",
        "  print(media)\n",
        "  for i in range(len(temp)):\n",
        "    if temp[i] > media:\n",
        "      print(temperaturaAnual)\n"
      ]
    },
    {
      "cell_type": "markdown",
      "id": "d6c70ba5",
      "metadata": {
        "id": "d6c70ba5"
      },
      "source": [
        "Teste a função com o seguinte trecho de código."
      ]
    },
    {
      "cell_type": "code",
      "execution_count": 26,
      "id": "45e44467",
      "metadata": {
        "id": "45e44467",
        "colab": {
          "base_uri": "https://localhost:8080/"
        },
        "outputId": "e59fbcc0-73b9-454a-9c6b-b60514f567e5"
      },
      "outputs": [
        {
          "output_type": "stream",
          "name": "stdout",
          "text": [
            "Mês: Janeiro, Temperatura: 28\n",
            "Mês: Fevereiro, Temperatura: 27\n",
            "Mês: Março, Temperatura: 25\n",
            "Mês: Outubro, Temperatura: 25\n",
            "Mês: Novembro, Temperatura: 27\n",
            "Mês: Dezembro, Temperatura: 29\n"
          ]
        }
      ],
      "source": [
        "def temperaturaAnual(meses,temp):\n",
        "  \"\"\"função que calcula a média anual das temperaturas, imprimir todas as temperaturas acima da média \"\"\"\n",
        "\n",
        "  media = sum(temp)/len(temp)\n",
        "\n",
        "  for i in range(len(temp)):\n",
        "    if temp[i] > media:\n",
        "      print(f'Mês: {meses[i]}, Temperatura: {temp[i]}')\n",
        "meses = ['Janeiro', 'Fevereiro', 'Março', 'Abril', 'Maio', 'Junho', 'Julho', 'Agosto', 'Setembro', 'Outubro', 'Novembro', 'Dezembro']\n",
        "\n",
        "temp = [28,27,25,20,18,15,15,20,20,25,27,29]\n",
        "\n",
        "temperaturaAnual(meses, temp)"
      ]
    },
    {
      "cell_type": "markdown",
      "id": "8c9944e5",
      "metadata": {
        "id": "8c9944e5"
      },
      "source": [
        "#### 12) Exercício sobre funções e tuplas.\n",
        "\n",
        "Implemente uma função chamada `médiaDasTuplas`  que calcule o valor médio dos elementos de cada uma das tuplas em uma tupla mais externa. A função deve retornar uma lista onde cada elemento é a média de cada uma das tuplas aninhadas.\n",
        "\n",
        "**Exemplo**:\n",
        "\n",
        "```python\n",
        "tupla = ((10, 10, 12), (30, 45, 56, 45), (81, 80, 39, 32), (1, 2, 3, 4))\n",
        "ret = médiaDasTuplas(nums)\n",
        "print(ret)\n",
        "[10.666666666666666, 44.0, 58.0, 2.5]\n",
        "```\n",
        "\n",
        "**DICAS**:\n",
        "\n",
        "\n",
        "1. Cada uma das tuplas aninhadas é um elemento da tupla mais externa, ou seja, usando os índices da tupla externa, você consegue ter acesso a cada uma das tuplas aninhadas. Por exemplo\n",
        "```python\n",
        "tupla = ((10, 10, 12), (30, 45, 56, 45), (81, 80, 39, 32), (1, 2, 3, 4))\n",
        "a = tupla[0]\n",
        "print(a)\n",
        "(10, 10, 12)\n",
        "```\n",
        "2. Use as funções embutidas `sum` e `len` para calcular a média dos elementos de uma tupla. Veja o exemplo abaixo:\n",
        "\n",
        "```python\n",
        "a  = (1,2,3)\n",
        "b = sum(a)/len(a)\n",
        "print(b)\n",
        "2.0\n",
        "```"
      ]
    },
    {
      "cell_type": "code",
      "execution_count": 28,
      "id": "962bcb98",
      "metadata": {
        "id": "962bcb98"
      },
      "outputs": [],
      "source": [
        "# Implemente o código do exercício aqui.\n",
        "def médiaDasTuplas(tuplas):\n",
        "  media = []\n",
        "  for tupla in tuplas:\n",
        "    media = sum(tupla)/len(tupla)\n",
        "    medias.append(media)  # Adiciona a média na lista\n",
        "    return medias\n"
      ]
    },
    {
      "cell_type": "markdown",
      "id": "125c06c9",
      "metadata": {
        "id": "125c06c9"
      },
      "source": [
        "Teste a função com o seguinte trecho de código."
      ]
    },
    {
      "cell_type": "code",
      "execution_count": 27,
      "id": "bc6912c0",
      "metadata": {
        "id": "bc6912c0",
        "colab": {
          "base_uri": "https://localhost:8080/"
        },
        "outputId": "49eedf9d-3dc5-4998-8aeb-e1b9e0764c2f"
      },
      "outputs": [
        {
          "output_type": "stream",
          "name": "stdout",
          "text": [
            "Retorno: [10.666666666666666, 44.0, 58.0, 2.5]  - Resultado correto? True\n",
            "Retorno: [-1.0, 20.0, -6.0, -1.6666666666666667]  - Resultado correto? True\n"
          ]
        }
      ],
      "source": [
        "def médiaDasTuplas(tuplas):\n",
        "  \"\"\"calcula o valor médio dos elementos de cada uma das tuplas em uma tupla mais externa.\"\"\"\n",
        "  media = []\n",
        "  for tupla in tuplas:\n",
        "    m = sum(tupla)/len(tupla)\n",
        "    media.append(m)  # Adiciona a média na lista\n",
        "  return media\n",
        "\n",
        "nums = ((10, 10, 12), (30, 45, 56, 45), (81, 80, 39, 32), (1, 2, 3, 4))\n",
        "print('Retorno:', médiaDasTuplas(nums), ' - Resultado correto?', médiaDasTuplas(nums)==[10.666666666666666, 44.0, 58.0, 2.5])\n",
        "\n",
        "nums = ((1, 1, -5), (24, -12, 48), (81, -60, -39), (-10, 2, 3))\n",
        "print('Retorno:', médiaDasTuplas(nums), ' - Resultado correto?', médiaDasTuplas(nums)==[-1.0, 20.0, -6.0, -1.6666666666666667] )"
      ]
    },
    {
      "cell_type": "markdown",
      "id": "d412df06",
      "metadata": {
        "id": "d412df06"
      },
      "source": [
        "#### 13) Exercício sobre dicionários.\n",
        "\n",
        "A seguinte tabela contém a tradução de algumas palavras em inglês para a língua dos piratas, o piratês.\n",
        "\n",
        "|   Inglês   |    Piratês    |\n",
        "|:----------:|:-------------:|\n",
        "|     sir    |     matey     |\n",
        "|    hotel   |  fleabag inn  |\n",
        "|   student  |    swabbie    |\n",
        "|     boy    |     matey     |\n",
        "|    madam   |  proud beauty |\n",
        "|  professor | foul blaggart |\n",
        "| restaurant |     galley    |\n",
        "|    your    |      yer      |\n",
        "|   excuse   |      arr      |\n",
        "|  students  |    swabbies   |\n",
        "|     are    |       be      |\n",
        "|   lawyer   | foul blaggart |\n",
        "|     the    |      th’      |\n",
        "|  restroom  |      head     |\n",
        "|     my     |       me      |\n",
        "|    hello   |     avast     |\n",
        "|     is     |       be      |\n",
        "|     man    |     matey     |\n",
        "\n",
        "Implemente uma função chamada `traduzirPiratês` que receba um dicionário com as palavras em inglês e piratês (e.g., `'sir':'matey'`) e uma frase em inglês (ou seja, uma string) e retorne uma **lista** com a tradução da frase para a língua dos piratas.\n",
        "\n",
        "Veja o exemplo abaixo:\n",
        "\n",
        "```python\n",
        "frase_em_inglês = 'student is man'\n",
        "frase_pirata = traduzirPiratês(dicionário, frase_em_inglês)\n",
        "print(frase_pirata)\n",
        "['swabbie', 'be', 'matey']\n",
        "```\n",
        "\n",
        "**DICAS**:\n",
        "\n",
        "1. Você não precisa criar o dicionário, ele já está definido na célula de testes abaixo.\n",
        "2. A **chave** de cada elemento do dicionário é a palavra em inglês e o **valor** associado, a palavra em piratês.\n",
        "3. Caso uma palavra em inglês não exista no dicionário, ou seja, não tenha tradução, simplesmente a adicione à frase (ou seja, à lista) em piratês.\n",
        "4. Você vai precisar usar o método `split` da classe string com o separador sendo um espaço em branco para dividir a frase em inglês em várias palavras e assim conseguir verificar a existência de cada uma delas no dicionário. Veja o exemplo abaixo.\n",
        "```python\n",
        "frase_em_inglês = 'student is man'\n",
        "frase_separada_em_elementos = frase_em_inglês.split(' ')\n",
        "print(frase_separada_em_elementos)\n",
        "['student', 'is', 'man']\n",
        "```"
      ]
    },
    {
      "cell_type": "code",
      "execution_count": 30,
      "id": "23059120",
      "metadata": {
        "id": "23059120"
      },
      "outputs": [],
      "source": [
        "# Implemente o código do exercício aqui.\n",
        "def traduzirPiratês(dicionário, frase_em_inglês):\n",
        "    \"\"\" tradução da frase para a língua dos piratas.\"\"\"\n",
        "    palavras = frase_em_inglês.split(' ')\n",
        "\n",
        "    frase_pirata = []\n",
        "\n",
        "    for palavra in palavras:\n",
        "        if palavra in dicionário:\n",
        "            frase_pirata.append(dicionário[palavra])\n",
        "        else:\n",
        "\n",
        "            frase_pirata.append(palavra)\n",
        "\n",
        "    return frase_pirata\n"
      ]
    },
    {
      "cell_type": "markdown",
      "id": "26acf523",
      "metadata": {
        "id": "26acf523"
      },
      "source": [
        "Teste a função com o seguinte trecho de código."
      ]
    },
    {
      "cell_type": "code",
      "execution_count": 31,
      "id": "b64b8648",
      "metadata": {
        "id": "b64b8648",
        "colab": {
          "base_uri": "https://localhost:8080/"
        },
        "outputId": "ae1ea6c8-8ec1-455a-d409-b496c0e1cdbf"
      },
      "outputs": [
        {
          "output_type": "stream",
          "name": "stdout",
          "text": [
            "A frase em piratês é: swabbie be matey  - tradução correta? True\n",
            "A frase em piratês é: avast there swabbies  - tradução correta? True\n",
            "A frase em piratês é: th’ swabbie be a girl  - tradução correta? True\n"
          ]
        }
      ],
      "source": [
        "\n",
        "\n",
        "dicionário = {'sir':'matey','hotel':'fleabag inn','student':'swabbie','boy':'matey','madam':'proud beauty','professor':'foul blaggart','restaurant':'galley','your':'yer','excuse':'arr','students':'swabbies','are':'be','lawyer':'foul blaggart','the':'th’','restroom':'head','my':'me','hello':'avast','is':'be','man':'matey'}\n",
        "\n",
        "texto1 = 'student is man'\n",
        "frase_pirata = traduzirPiratês(dicionário, texto1)\n",
        "frase = \" \".join(frase_pirata)\n",
        "print('A frase em piratês é:', frase, ' - tradução correta?', frase=='swabbie be matey')\n",
        "\n",
        "texto2 = 'hello there students'\n",
        "frase_pirata = traduzirPiratês(dicionário, texto2)\n",
        "frase = \" \".join(frase_pirata)\n",
        "print('A frase em piratês é:', frase, ' - tradução correta?', frase=='avast there swabbies')\n",
        "\n",
        "texto3 = 'the student is a girl'\n",
        "frase_pirata = traduzirPiratês(dicionário, texto3)\n",
        "frase = \" \".join(frase_pirata)\n",
        "print('A frase em piratês é:', frase, ' - tradução correta?', frase=='th’ swabbie be a girl')"
      ]
    },
    {
      "cell_type": "markdown",
      "id": "ce0f7ae2",
      "metadata": {
        "id": "ce0f7ae2"
      },
      "source": [
        "#### 14) Exercício sobre programação orientada a objetos\n",
        "\n",
        "Um membro de uma universidade **É** um professor ou ele **É** um aluno. Baseado nessa afirmação, implemente todas as classes do diagrama de classes abaixo.\n",
        "\n",
        "<img src=\"https://raw.githubusercontent.com/zz4fap/tp557-iot-ml/main/figures/universidade2.png\" width=\"500px\">\n",
        "\n",
        "Seguem algumas dicas para a implementação das classes:\n",
        "\n",
        "1. O relacionamento do membro significa se ele é um professor ou aluno da universidade. Nós podemos obter o nome da classe a qual uma instância (i.e., um objeto) pertence utilizando `__class__.__name__`, como mostrado no trecho de código abaixo.\n",
        "```python\n",
        "def getRelacionamento(self):\n",
        "       return __class__.__name__\n",
        "```\n",
        "2. O Atributo privado `disciplinas` da classe `Membro` é uma **lista de strings** que irá conter em cada elemento a string de uma disciplina. Para um objeto da classe `Professor` esse atributo irá armazenar as disciplinas ministradas por aquele professor e para um objeto da classe `Aluno`, o atributo irá armazenar as disciplinas em que o aluno está matriculado.\n",
        "3. O método `addDisciplina` da classe `Membro` adiciona uma disciplina à lista de `disciplinas` caso aquela disciplina **NÃO** esteja presente na lista e retorna `True`. Caso contrário, a disciplina não é adicionada à lista e o valor `False` é retornado.\n",
        "4. O método `removeDisciplina` da classe `Membro` remove uma disciplina da lista de `disciplinas` caso aquela disciplina **ESTEJA** presente na lista e retorna `True`. Caso contrário, o método retorna o valor `False`.\n",
        "5. O método `getDisciplinas` da classe `Membro` retorna a **lista de disciplinas**.\n",
        "6. O método `getDisciplina`  da classe `Membro` verifica se uma determinada disciplina, passada como parâmetro para método, está presente na lista de disciplinas. O método retorna `True` caso a disciplina esteja presente e `False` caso contrário.\n",
        "7. Os métodos `get` e `set` das classes `Professor` e `Aluno` apenas retornam e configuram os atributos `salário` e `matrícula` destas duas classes."
      ]
    },
    {
      "cell_type": "code",
      "execution_count": 62,
      "id": "6d6d1985",
      "metadata": {
        "id": "6d6d1985"
      },
      "outputs": [],
      "source": [
        "class Membro:\n",
        "    def __init__(self, nome: str, dataDeNascimento: str):\n",
        "      self.__nome = nome\n",
        "      self.__dataDeNascimento = dataDeNascimento\n",
        "      self.__disciplinas = []\n",
        "\n",
        "\n",
        "    def getRelacionamento(self) -> str:\n",
        "        return \"Membro da universidade\"\n",
        "\n",
        "    def addDisciplina(self, disciplina: str) -> bool:\n",
        "        if disciplina not in self.__disciplinas:\n",
        "            self.__disciplinas.append(disciplina)\n",
        "            return True\n",
        "        return False\n",
        "\n",
        "    def removeDisciplina(self, disciplina: str) -> bool:\n",
        "        if disciplina in self.__disciplinas:\n",
        "            self.__disciplinas.remove(disciplina)\n",
        "            return True\n",
        "        return False\n",
        "\n",
        "    def getDisciplinas(self) -> list:\n",
        "        return self.__disciplinas\n",
        "\n",
        "    def getDisciplina(self, disciplina: str) -> bool:\n",
        "        return disciplina in self.__disciplinas\n",
        "\n",
        "\n",
        "\n",
        "class Professor(Membro):\n",
        "    def __init__(self, nome: str, dataDeNascimento: str, salario: float):\n",
        "        super().__init__(nome, dataDeNascimento)\n",
        "        self.__salário = salario\n",
        "\n",
        "    def getRelacionamento(self) -> str:\n",
        "        return \"Professor\"\n",
        "\n",
        "    def setSalário(self, salario: float):\n",
        "        self.__salário = salario\n",
        "\n",
        "    def getSalário(self) -> float:\n",
        "        return self.__salário\n",
        "\n",
        "\n",
        "class Aluno(Membro):\n",
        "    def __init__(self, nome: str, dataDeNascimento: str, matricula: int):\n",
        "        super().__init__(nome, dataDeNascimento)\n",
        "        self.__matrícula = matricula\n",
        "\n",
        "    def getRelacionamento(self) -> str:\n",
        "        return \"Aluno\"\n",
        "\n",
        "    def getMatrícula(self) -> int:\n",
        "        return self.__matrícula\n",
        "\n",
        "    def setMatrícula(self, matricula: int):\n",
        "        self.__matrícula = matricula"
      ]
    },
    {
      "cell_type": "markdown",
      "id": "1e9a40ee",
      "metadata": {
        "id": "1e9a40ee"
      },
      "source": [
        "Teste sua implementação com o trecho de código abaixo."
      ]
    },
    {
      "cell_type": "code",
      "execution_count": 63,
      "id": "0a436453",
      "metadata": {
        "id": "0a436453",
        "colab": {
          "base_uri": "https://localhost:8080/"
        },
        "outputId": "fe0c625b-6290-4b79-8b5b-d8341cf00f46"
      },
      "outputs": [
        {
          "output_type": "stream",
          "name": "stdout",
          "text": [
            "Sua implementação está correta.\n"
          ]
        }
      ],
      "source": [
        "prof = Professor('João Afonso', '12/04/1987', 2000.00)\n",
        "aluno = Aluno('Tiago Nascimento', '23/12/1997', 1234)\n",
        "ret = 0\n",
        "try:\n",
        "    prof.__nome\n",
        "except AttributeError:\n",
        "    ret += 1\n",
        "try:\n",
        "    prof.__dataDeNascimento\n",
        "except AttributeError:\n",
        "    ret += 1\n",
        "try:\n",
        "    prof.__disciplinas\n",
        "except AttributeError:\n",
        "    ret += 1\n",
        "try:\n",
        "    prof.__salário\n",
        "except AttributeError:\n",
        "    ret += 1\n",
        "try:\n",
        "    aluno.__matrícula\n",
        "except AttributeError:\n",
        "    ret += 1\n",
        "if(prof.getRelacionamento()=='Professor'):\n",
        "    ret += 1\n",
        "if(aluno.getRelacionamento()=='Aluno'):\n",
        "    ret += 1\n",
        "if(len(prof.getDisciplinas())==0):\n",
        "    ret += 1\n",
        "if(prof.addDisciplina('C126')==True):\n",
        "    ret += 1\n",
        "if(len(prof.getDisciplinas())==1):\n",
        "    ret += 1\n",
        "if(prof.addDisciplina('C126')==False):\n",
        "    ret += 1\n",
        "if(prof.removeDisciplina('C126')==True):\n",
        "    ret += 1\n",
        "if(len(prof.getDisciplinas())==0):\n",
        "    ret += 1\n",
        "if(prof.removeDisciplina('C126')==False):\n",
        "    ret += 1\n",
        "if(prof.getSalário()==2000.00):\n",
        "    ret += 1\n",
        "prof.setSalário(4000.00)\n",
        "if(prof.getSalário()==4000.00):\n",
        "    ret += 1\n",
        "if(len(aluno.getDisciplinas())==0):\n",
        "    ret += 1\n",
        "if(aluno.addDisciplina('C126')==True):\n",
        "    ret += 1\n",
        "if(len(aluno.getDisciplinas())==1):\n",
        "    ret += 1\n",
        "if(aluno.addDisciplina('C126')==False):\n",
        "    ret += 1\n",
        "if(aluno.removeDisciplina('C126')==True):\n",
        "    ret += 1\n",
        "if(len(aluno.getDisciplinas())==0):\n",
        "    ret += 1\n",
        "if(aluno.removeDisciplina('C126')==False):\n",
        "    ret += 1\n",
        "if(aluno.getMatrícula()==1234):\n",
        "    ret += 1\n",
        "aluno.setMatrícula(5678)\n",
        "if(aluno.getMatrícula()==5678):\n",
        "    ret += 1\n",
        "if(ret==25):\n",
        "    print('Sua implementação está correta.')\n",
        "else:\n",
        "    print('Sua implementação NÃO está correta.')"
      ]
    },
    {
      "cell_type": "markdown",
      "id": "7b488d42",
      "metadata": {
        "id": "7b488d42"
      },
      "source": [
        "#### 15) Exercício sobre a biblioteca NumPy.\n",
        "\n",
        "Implemente uma função chamada `quantidadeDeValoresIguais` que recebe uma array `x` e um valor `valor` como argumentos de entrada e retorna a quantidade de elementos em `x` iguais a `valor`.\n",
        "\n",
        "**DICAS**\n",
        "\n",
        "+ Você vai precisar usar indexação com filtragem condicional e a função `np.sum()` da biblioteca NumPy para resolver este exercício.\n",
        "+ Lembre-se que a filtragem condicional retorna uma array com as mesmas dimensões da array original, mas com valores booleanos.\n",
        "+ Lembre-se também que o tipo Booleano é uma especialização do tipo dos inteiros e que em uma soma, por exemplo, o interpretador Python infere o valor booleano `True` como o valor inteiro `1` e `False` como `0`.\n",
        "+ Portanto, pode-se usar a função `np.sum()` para somar os elementos de uma array de valores booleanos."
      ]
    },
    {
      "cell_type": "code",
      "execution_count": 1,
      "id": "0c678c38",
      "metadata": {
        "id": "0c678c38"
      },
      "outputs": [],
      "source": [
        "# Implemente aqui o código da função.\n",
        "import numpy as np\n",
        "def quantidadeDeValoresIguais(x,valor):\n",
        "  \"\"\"função que retorna a quantidade de elementos em x iguais a valor.\"\"\"\n",
        "  cond = (x==valor)\n",
        "  return np.sum(cond)"
      ]
    },
    {
      "cell_type": "markdown",
      "id": "07950c0d",
      "metadata": {
        "id": "07950c0d"
      },
      "source": [
        "Teste sua implementação com o código abaixo."
      ]
    },
    {
      "cell_type": "code",
      "execution_count": 13,
      "id": "561108fd",
      "metadata": {
        "id": "561108fd",
        "colab": {
          "base_uri": "https://localhost:8080/"
        },
        "outputId": "67506898-0a4e-41a8-a1ea-5fa22f33f74e"
      },
      "outputs": [
        {
          "output_type": "stream",
          "name": "stdout",
          "text": [
            "Teste 7: Implementação está correta.\n"
          ]
        }
      ],
      "source": [
        "\n",
        "\n",
        "ret = 0\n",
        "\n",
        "x = np.array([[0, 10, 20], [20, 10, 40]])\n",
        "retorno = quantidadeDeValoresIguais(x, 10)\n",
        "if(retorno == 2):\n",
        "    ret += 1\n",
        "\n",
        "x = np.array([[0, 10, 20]])\n",
        "retorno = quantidadeDeValoresIguais(x, 10)\n",
        "if(retorno == 1):\n",
        "    ret += 1\n",
        "\n",
        "x = np.array([0, 10, 20])\n",
        "retorno = quantidadeDeValoresIguais(x, 30)\n",
        "if(retorno == 0):\n",
        "    ret += 1\n",
        "\n",
        "if(ret == 3):\n",
        "    print('Teste 7: Implementação está correta.')\n",
        "else:\n",
        "    print('Teste 7: Implementação NÃO está correta.')"
      ]
    },
    {
      "cell_type": "markdown",
      "id": "e4bf071a",
      "metadata": {
        "id": "e4bf071a"
      },
      "source": [
        "#### 16)  Exercício sobre a biblioteca NumPy.\n",
        "\n",
        "Crie duas funções chamadas `extrairNúmerosPares` e `extrairNúmerosImpares` que recebam uma array NumPy como argumento de entrada e retornem todos os números pares e ímpares da array de entrada, respectivamente, usando indexação com filtragem condicional.\n",
        "\n",
        "**OBS**.: Use filtragem condicional para implementar as funções."
      ]
    },
    {
      "cell_type": "code",
      "execution_count": 71,
      "id": "db83d576",
      "metadata": {
        "id": "db83d576"
      },
      "outputs": [],
      "source": [
        "# Implemente aqui o código da função.\n",
        "def extrairNumerosPares(array):\n",
        "    \"\"\"retorna numeros pares e impares\"\"\"\n",
        "    return arr[arr % 2 == 0]\n",
        "\n",
        "def extrairNumerosImpares(array):\n",
        "    return arr[arr % 2 != 0]\n"
      ]
    },
    {
      "cell_type": "markdown",
      "id": "c65d0415",
      "metadata": {
        "id": "c65d0415"
      },
      "source": [
        "Teste sua implementação com o código abaixo."
      ]
    },
    {
      "cell_type": "code",
      "execution_count": 72,
      "id": "bb149d38",
      "metadata": {
        "id": "bb149d38",
        "colab": {
          "base_uri": "https://localhost:8080/"
        },
        "outputId": "ee92de3e-d844-4a57-b1bb-373df4483ca5"
      },
      "outputs": [
        {
          "output_type": "stream",
          "name": "stdout",
          "text": [
            "Teste 1: Implementação está correta.\n",
            "Teste 2: Implementação está correta.\n"
          ]
        }
      ],
      "source": [
        "import numpy as np\n",
        "\n",
        "def extrairNúmerosPares(array):\n",
        "    return array[array % 2 == 0]\n",
        "\n",
        "def extrairNúmerosImpares(array):\n",
        "    return array[array % 2 != 0]\n",
        "\n",
        "\n",
        "a = np.array([0,1,2,3,4,5,6,7,8,9])\n",
        "\n",
        "ret = True\n",
        "if ( (extrairNúmerosPares(a) != np.array([0,2,4,6,8])).all()):\n",
        "    ret = False\n",
        "\n",
        "if(ret == True):\n",
        "    print('Teste 1: Implementação está correta.')\n",
        "else:\n",
        "    print('Teste 1: Implementação NÃO está correta.')\n",
        "\n",
        "ret = True\n",
        "if ( (extrairNúmerosImpares(a) != np.array([1,3,5,7,9])).all()):\n",
        "    ret = False\n",
        "\n",
        "if(ret == True):\n",
        "    print('Teste 2: Implementação está correta.')\n",
        "else:\n",
        "    print('Teste 2: Implementação NÃO está correta.')"
      ]
    },
    {
      "cell_type": "markdown",
      "id": "47d80f63",
      "metadata": {
        "id": "47d80f63"
      },
      "source": [
        "#### 17) Exercício sobre as bibliotecas NumPy e Matplotlib.\n",
        "\n",
        "Plote um gráfico exatamente como o mostrado na figura abaixo.\n",
        "\n",
        "<img src=\"https://raw.githubusercontent.com/zz4fap/tp557-iot-ml/main/figures/lab8_ex2.png\" width=\"500px\">\n",
        "\n",
        "**DICAS**:\n",
        "\n",
        "+ A função mostrada na figura é $y = x^2$.\n",
        "+ Use 100 pontos (ou valores).\n",
        "+ O gráfico deve ter 5 polegadas de largura e 4 polegadas de altura. O tamanho da figura é configurado com o parâmetro `figsize` sendo passado para a função `figure` da biblioteca Matplotlib.\n",
        "+ Salve seu gráfico em uma arquivo com extensão `png`.\n",
        "+ Use a função `linspace` da biblioteca NumPy para gerar os valores no intervalo mostrado.\n",
        "+ Use **indexação com filtragem condicional** para seprar os pontos em dois intervalos distintos e conseguir plotá-los com cores diferentes."
      ]
    },
    {
      "cell_type": "code",
      "execution_count": 73,
      "id": "7dbe52f2",
      "metadata": {
        "id": "7dbe52f2",
        "colab": {
          "base_uri": "https://localhost:8080/",
          "height": 472
        },
        "outputId": "1127aa3a-3f01-40bc-9729-e3c16da21b92"
      },
      "outputs": [
        {
          "output_type": "display_data",
          "data": {
            "text/plain": [
              "<Figure size 640x480 with 1 Axes>"
            ],
            "image/png": "[encoded data removed]"
          },
          "metadata": {}
        }
      ],
      "source": [
        "# Implemente aqui o código do exercício.\n",
        "import numpy as np\n",
        "import matplotlib.pyplot as plt\n",
        "\n",
        "def funcao(x):\n",
        "  \"\"\"plotando um gráfico\"\"\"\n",
        "  y = x*x\n",
        "\n",
        "  return y\n",
        "x = np.linspace(-10, 10, 100)\n",
        "\n",
        "y = funcao(x)\n",
        "\n",
        "separador = x < 0\n",
        "\n",
        "plt.plot(x[separador], y[separador], 'r--',label = 'x < =0')\n",
        "plt.plot(x[~separador], y[~separador], 'b--',label = 'x > 0')\n",
        "plt.title('Gráfico de y = x²')\n",
        "plt.xlabel('x')\n",
        "plt.ylabel('y')\n",
        "plt.legend()\n",
        "plt.grid(True)\n",
        "plt.show()"
      ]
    },
    {
      "cell_type": "markdown",
      "id": "94e5b994",
      "metadata": {
        "id": "94e5b994"
      },
      "source": [
        "#### 18) Exercício sobre a biblioteca Pandas.\n",
        "\n",
        "Neste exercício, você deve encontrar, usando apenas métodos da classe `DataFrame`, a empresa com o carro mais caro que consta no arquivo `automobile_data.csv`.\n",
        "\n",
        "**DICAS**\n",
        "\n",
        "+ Baixe o arquivo `automobile_data.csv` do github da disciplina e faça seu upload para o google colab.\n",
        "+ Para ler o arquivo, use a função `read_csv` da biblioteca Pandas.\n",
        "+ Para criar a sub-tabela (ou seja o **sub-DataFrame**) e encontrar a empresa com carro mais caro, use as colunas `company`  e `price`."
      ]
    },
    {
      "cell_type": "code",
      "execution_count": 76,
      "id": "c871fbfd",
      "metadata": {
        "id": "c871fbfd",
        "colab": {
          "base_uri": "https://localhost:8080/"
        },
        "outputId": "39158a00-f980-465d-aa12-ad5de45f2bfa"
      },
      "outputs": [
        {
          "output_type": "stream",
          "name": "stdout",
          "text": [
            "company    mercedes-benz\n",
            "price            45400.0\n",
            "Name: 35, dtype: object\n"
          ]
        }
      ],
      "source": [
        "# Implemente aqui o código do exercício.\n",
        "import pandas as pd\n",
        "\n",
        "df = pd.read_csv(\"automobile_data 1.csv\")\n",
        "\n",
        "#criando a sub tabela\n",
        "sub_table = df[['company', 'price']]\n",
        "\n",
        "# empresa + cara\n",
        "empresa_cara = sub_table.loc[sub_table['price'].idxmax()]\n",
        "\n",
        "print(empresa_cara)\n"
      ]
    },
    {
      "cell_type": "markdown",
      "id": "518f9fe4",
      "metadata": {
        "id": "518f9fe4"
      },
      "source": [
        "#### 19) Exercício sobre leitura e escrita de arquivos.\n",
        "\n",
        "Implemente uma função chamada `calcularValoresMédios` que receba um arquivo CSV como parâmetro de entrada, calcule e retorne a média da frequência cardíaca e da temperatura corporal dos usuários presentes no arquivo.\n",
        "\n",
        "**DICAS**:\n",
        "\n",
        "1. Lembre-se que a primeira linha do arquivo CSV contém os nomes de cada coluna.\n",
        "2. Os nomes das colunas são: `ID`, `Sexo`, `Idade`, `Altura`, `Duração`, `Distância`, `Batimento_Cardíaco` e `Temperatura_Corporal`."
      ]
    },
    {
      "cell_type": "code",
      "execution_count": 78,
      "id": "8d4487e9",
      "metadata": {
        "id": "8d4487e9"
      },
      "outputs": [],
      "source": [
        "# Implemente aqui o código da função.\n",
        "def calcularValoresMédios(exercicio):\n",
        "  \"\"\"dunção que retorna a frequencia cardiaca e a temperatura corporal dos usuarios\"\"\"\n",
        "  df = pd.read_csv(exercicio)\n",
        "  avgHeartRate = df['Batimento_Cardíaco'].mean()\n",
        "  avgTemp  = df['Temperatura_Corporal'].mean()\n",
        "\n",
        "  return avgHeartRate, avgTemp\n",
        "\n",
        "\n"
      ]
    },
    {
      "cell_type": "markdown",
      "id": "0f0ad114",
      "metadata": {
        "id": "0f0ad114"
      },
      "source": [
        "Teste sua implementação com o código abaixo, o qual deve resultar na seguinte saída esperada:\n",
        "\n",
        "```python\n",
        "Batimento cardíaco médio: 93.0625\n",
        "Temperatura corporal média: 39.981249999999996\n",
        "```"
      ]
    },
    {
      "cell_type": "code",
      "execution_count": 79,
      "id": "13c9b33a",
      "metadata": {
        "id": "13c9b33a",
        "colab": {
          "base_uri": "https://localhost:8080/"
        },
        "outputId": "be2a556c-ad60-4281-ff99-6e8de7450467"
      },
      "outputs": [
        {
          "output_type": "stream",
          "name": "stdout",
          "text": [
            "Batimento cardíaco médio: 93.0625\n",
            "Temperatura corporal média: 39.98125\n"
          ]
        }
      ],
      "source": [
        "import csv\n",
        "\n",
        "linhas = [\n",
        "    ['ID','Sexo','Idade','Altura','Duração','Distância','Batimento_Cardíaco','Temperatura_Corporal'],\n",
        "    [14733363,'masculino',68,190.0,94.0,29.0,105.0,40.8],\n",
        "    [14861698,'feminino',20,166.0,60.0,14.0,94.0,40.3],\n",
        "    [11179863,'masculino',69,179.0,79.0,5.0,88.0,38.7],\n",
        "    [16180408,'feminino',34,179.0,71.0,13.0,100.0,40.5],\n",
        "    [17771927,'feminino',27,154.0,58.0,10.0,81.0,39.8],\n",
        "    [15130815,'feminino',36,151.0,50.0,23.0,96.0,40.7],\n",
        "    [19602372,'feminino',33,158.0,56.0,22.0,95.0,40.5],\n",
        "    [11117088,'masculino',41,175.0,85.0,25.0,100.0,40.7],\n",
        "    [12132339,'masculino',60,186.0,94.0,21.0,97.0,40.4],\n",
        "    [17964668,'feminino',26,146.0,51.0,16.0,90.0,40.2],\n",
        "    [13723164,'feminino',36,177.0,76.0,1.0,74.0,37.8],\n",
        "    [13681290,'feminino',21,157.0,56.0,17.0,100.0,40.0],\n",
        "    [15566424,'mamasculinole',66,171.0,79.0,11.0,90.0,40.0],\n",
        "    [12891699,'feminino',32,157.0,54.0,18.0,93.0,40.4],\n",
        "    [13823829,'masculino',53,182.0,85.0,2.0,82.0,38.1],\n",
        "    [17557348,'feminino',39,156.0,62.0,28.0,104.0,40.8]\n",
        "]\n",
        "\n",
        "with open('exercicios.csv', 'w', newline='') as f:\n",
        "    csv_writer = csv.writer(f, delimiter=',')\n",
        "    csv_writer.writerows(linhas)\n",
        "\n",
        "avgHeartRate, avgTemp = calcularValoresMédios('exercicios.csv')\n",
        "print('Batimento cardíaco médio:', avgHeartRate)\n",
        "print('Temperatura corporal média:', avgTemp)"
      ]
    },
    {
      "cell_type": "markdown",
      "id": "70235310",
      "metadata": {
        "id": "70235310"
      },
      "source": [
        "#### 20) Exercício sobre leitura e escrita de arquivos.\n",
        "\n",
        "Implemente uma função chamada `imprimirNotasDosAlunos` que imprime o nome e as notas dos alunos que tenham seis ou mais notas. Esta função deve receber como parâmetro de entrada o nome de um arquivo. Este arquivo contém uma linha para cada aluno de uma turma de estudantes. O nome de cada estudante está no início de cada linha e é seguido pelas suas notas."
      ]
    },
    {
      "cell_type": "code",
      "execution_count": 81,
      "id": "1d29926e",
      "metadata": {
        "id": "1d29926e"
      },
      "outputs": [],
      "source": [
        "# Implemente aqui o código da função.\n",
        "def imprimirNotasDosAlunos(notas_alunos):\n",
        "  \"\"\"função que imprime o nome e notas dos alunos que tenham seis ou mais notas\"\"\"\n",
        "  with open(notas_alunos,'r') as f:\n",
        "    for linhas in f:\n",
        "      dados = linhas.strip().split()\n",
        "      nome = dados[0]\n",
        "      notas = list(map(float,dados[1:]))\n",
        "\n",
        "      if len(notas) >= 6:\n",
        "\n",
        "       print(nome,notas)"
      ]
    },
    {
      "cell_type": "markdown",
      "id": "b460f1bd",
      "metadata": {
        "id": "b460f1bd"
      },
      "source": [
        "Teste sua implementação com o código abaixo, o qual deve resultar na seguinte saída esperada:\n",
        "\n",
        "```python\n",
        "Aluno: suzana - Notas: 8, 22, 17, 14, 32, 17, 24, 21, 2, 9, 11, 17\n",
        "Aluno: gisela - Notas: 12, 28, 21, 45, 26, 10\n",
        "```"
      ]
    },
    {
      "cell_type": "code",
      "execution_count": 82,
      "id": "47715995",
      "metadata": {
        "id": "47715995",
        "colab": {
          "base_uri": "https://localhost:8080/"
        },
        "outputId": "2638a869-acd6-4146-ad4a-df361f4a9731"
      },
      "outputs": [
        {
          "output_type": "stream",
          "name": "stdout",
          "text": [
            "Suzana [8.0, 22.0, 17.0, 14.0, 32.0, 17.0, 24.0, 21.0, 2.0, 9.0, 11.0, 17.0]\n",
            "Gisela [12.0, 28.0, 21.0, 45.0, 26.0, 10.0]\n"
          ]
        }
      ],
      "source": [
        "notas = [\n",
        "    'Jose 10 15 20 30 40\\n',\n",
        "    'Pedro 23 16 19 22\\n',\n",
        "    'Suzana 8 22 17 14 32 17 24 21 2 9 11 17\\n',\n",
        "    'Gisela 12 28 21 45 26 10\\n',\n",
        "    'Joao 14 32 25 16 89'\n",
        "]\n",
        "\n",
        "with open('notas_alunos.txt', 'w') as f:\n",
        "    f.writelines(notas)\n",
        "\n",
        "imprimirNotasDosAlunos('notas_alunos.txt')"
      ]
    }
  ],
  "metadata": {
    "kernelspec": {
      "display_name": "Python 3 (ipykernel)",
      "language": "python",
      "name": "python3"
    },
    "language_info": {
      "codemirror_mode": {
        "name": "ipython",
        "version": 3
      },
      "file_extension": ".py",
      "mimetype": "text/x-python",
      "name": "python",
      "nbconvert_exporter": "python",
      "pygments_lexer": "ipython3",
      "version": "3.11.5"
    },
    "colab": {
      "provenance": []
    }
  },
  "nbformat": 4,
  "nbformat_minor": 5
}