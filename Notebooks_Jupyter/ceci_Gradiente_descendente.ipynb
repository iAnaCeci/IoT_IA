{
  "cells": [
    {
      "cell_type": "markdown",
      "metadata": {
        "id": "SfhF5BUcomZP"
      },
      "source": [
        "# Exemplo sobre o gradiente descendente\n",
        "\n",
        "#### Neste notebook, exploraremos a função de erro - em particular, a função do erro quadrático médio (MSE) para um problema de regressão.\n",
        "\n",
        "#### Também treinaremos um modelo básico de Machine Learning usando o Gradiente Descente para ajustar uma função hipótese aos nossos dados e, consequentemente, minimizar o erro."
      ]
    },
    {
      "cell_type": "markdown",
      "metadata": {
        "id": "Rr3SfU1pOHji"
      },
      "source": [
        "### Importando as bibliotecas\n",
        "\n",
        "Abaixo, importamos quatro bibliotecas.\n",
        "\n",
        "1.   [math](https://docs.python.org/3/library/math.html) - operações matemáticas básicas, e.g.: raíz quadrada, potência, etc.\n",
        "2.   [matplotlib](https://matplotlib.org/) - visualização de dados\n",
        "3.   [numpy](https://numpy.org/) - manipulação de arrays\n",
        "4.   [tensorflow](https://www.tensorflow.org/) - biblioteca de código aberto para criar e treinar modelos de ML."
      ]
    },
    {
      "cell_type": "code",
      "execution_count": 190,
      "metadata": {
        "id": "ULRbhByH_g6G"
      },
      "outputs": [],
      "source": [
        "# importando as bibliotecas que serão usadas.\n",
        "import math\n",
        "import matplotlib.pyplot as plt\n",
        "import numpy as np\n",
        "import tensorflow as tf"
      ]
    },
    {
      "cell_type": "markdown",
      "metadata": {
        "id": "m-BqjIFB2d2L"
      },
      "source": [
        "### Gerando o conjunto de dados\n",
        "\n",
        "Geramos o conjunto de dados que usaremos para encontrar a relação entre x e y, ou seja, chegar aos valores ótimos de $a_0$ e $a_1$."
      ]
    },
    {
      "cell_type": "code",
      "execution_count": 191,
      "metadata": {
        "id": "20BHBPt82d2L",
        "outputId": "0c18f17f-a6f5-4553-ade4-995b510b28c5",
        "colab": {
          "base_uri": "https://localhost:8080/",
          "height": 449
        }
      },
      "outputs": [
        {
          "output_type": "display_data",
          "data": {
            "text/plain": [
              "<Figure size 640x480 with 1 Axes>"
            ],
            "image/png": "[encoded data removed]"
          },
          "metadata": {}
        }
      ],
      "source": [
        "# Atributo.\n",
        "x = np.array([-1, 0, 1, 2, 3, 4])\n",
        "\n",
        "# Valores esperados (rótulos).\n",
        "y = np.array([-3, -1, 1, 3, 5, 7])\n",
        "\n",
        "# Plotando os dados.\n",
        "plt.plot(x, y, 'bo', label='Valores esperados')\n",
        "plt.legend()\n",
        "plt.grid()\n",
        "plt.xlabel('x')\n",
        "plt.ylabel('y')\n",
        "plt.show()"
      ]
    },
    {
      "cell_type": "markdown",
      "metadata": {
        "id": "SQxFbTjb1RRf"
      },
      "source": [
        "### Definindo o modelo\n",
        "\n",
        "Após observar a figura acima, notamos que uma reta é uma boa hipótese para explicar os dados do nosso conjunto.\n",
        "\n",
        "Portanto, nossa função hipótese terá o seguinte formato\n",
        "\n",
        "$$h(x) = \\hat{y} = a_0 + a_1 x$$"
      ]
    },
    {
      "cell_type": "markdown",
      "metadata": {
        "id": "-TiTRaOfOlIq"
      },
      "source": [
        "### Explorando o erro"
      ]
    },
    {
      "cell_type": "markdown",
      "metadata": {
        "id": "mzT77SGLNmzq"
      },
      "source": [
        "A célula abaixo calcula os valores $\\hat{y}$ preditos para palpites de $a_0$ e $a_1$.\n",
        "\n",
        "Vamos alterar os valores dos dois pesos e explorar como a saída da função hipótese e, consequentemente, o erro mudam para diferentes pesos."
      ]
    },
    {
      "cell_type": "code",
      "execution_count": 192,
      "metadata": {
        "colab": {
          "base_uri": "https://localhost:8080/"
        },
        "id": "PwrR2q7tZKPi",
        "outputId": "c4bd0604-ff74-4209-e3c3-023e08a4da2e"
      },
      "outputs": [
        {
          "output_type": "stream",
          "name": "stdout",
          "text": [
            "y: [-3 -1  1  3  5  7]\n",
            "y_hat: [-4. -3. -2. -1.  0.  1.]\n"
          ]
        }
      ],
      "source": [
        "# Edite os pesos a0 e a1 para obter valores de erro diferentes.\n",
        "# Execute esta célula novamente quando terminar de definir os novos pesos.\n",
        "# Seu y_hat será calculado como y_hat = ao + a1*x, então\n",
        "# se a0 = -3 e a1 = 3, então y = -3 + 3x\n",
        "\n",
        "a0 = -3 # < Coloque um valor aqui >\n",
        "a1 = 1  # < Coloque um valor aqui >\n",
        "\n",
        "y_hat = np.zeros((len(y), ))\n",
        "for i, xi in enumerate(x):\n",
        "    y_hat[i] = a0 + a1*xi     # Predições feitas com base nos valores definidos para os pesos.\n",
        "\n",
        "print(\"y: \" + str(y))\n",
        "print(\"y_hat: \" + str(y_hat))"
      ]
    },
    {
      "cell_type": "markdown",
      "metadata": {
        "id": "d0A6xCNt2d2N"
      },
      "source": [
        "### Comparando os dados com a função hipótese"
      ]
    },
    {
      "cell_type": "markdown",
      "metadata": {
        "id": "2759rVV6CjFY"
      },
      "source": [
        "Antes de prosseguirmos para o cálculo do erro, vamos visualizar a diferença entre os valores esperados e preditos.\n",
        "\n",
        "No gráfico abaixo, os *pontos azuis* representam os valores esperados, os *pontos verdes* representam os valores preditos e as *linhas tracejadas vermelhas* representam a diferença entre os dois para cada amostra de dados individual."
      ]
    },
    {
      "cell_type": "code",
      "execution_count": 193,
      "metadata": {
        "colab": {
          "base_uri": "https://localhost:8080/",
          "height": 430
        },
        "id": "JJxSeN1B-fL8",
        "outputId": "dc8b2063-7a68-41d8-c031-652f8e9a03ff"
      },
      "outputs": [
        {
          "output_type": "display_data",
          "data": {
            "text/plain": [
              "<Figure size 640x480 with 1 Axes>"
            ],
            "image/png": "[encoded data removed]"
          },
          "metadata": {}
        }
      ],
      "source": [
        "# Visualização do erro entre os valores esperados e preditos pela função hipótese.\n",
        "plt.scatter(x, y, color='blue', label='Valores esperados')                    # valores esperados\n",
        "plt.scatter(x, y_hat, color='green', label='Valores preditos')                # valores preditos\n",
        "plt.vlines(x, ymin=np.minimum(y, y_hat), ymax=np.maximum(y, y_hat), color=\"red\", linestyle='--', alpha=0.3)\n",
        "plt.legend()\n",
        "plt.grid()\n",
        "plt.show()"
      ]
    },
    {
      "cell_type": "markdown",
      "metadata": {
        "id": "2oUxMYFcFe6e"
      },
      "source": [
        "### Calculando o erro quadrático médio da hipótese"
      ]
    },
    {
      "cell_type": "code",
      "execution_count": 194,
      "metadata": {
        "colab": {
          "base_uri": "https://localhost:8080/"
        },
        "id": "MUOgz0NoChZG",
        "outputId": "ef7d1e39-b4ae-46ca-90ad-13518357828e"
      },
      "outputs": [
        {
          "output_type": "stream",
          "name": "stdout",
          "text": [
            "MSE: 15.166666666666666\n"
          ]
        }
      ],
      "source": [
        "# Vamos calcular o EQM.\n",
        "mse = 0\n",
        "N = len(y) # Número total de amostras.\n",
        "for i in range(0, N):\n",
        "    squared_diff = (y[i] - y_hat[i]) ** 2\n",
        "    mse += squared_diff\n",
        "\n",
        "# Divide pelo número total de amostras.\n",
        "mse /= N\n",
        "\n",
        "print(\"MSE: \" + str((mse)))"
      ]
    },
    {
      "cell_type": "markdown",
      "metadata": {
        "id": "YZqMW2IHvqXR"
      },
      "source": [
        "### Minimizando o erro"
      ]
    },
    {
      "cell_type": "markdown",
      "metadata": {
        "id": "LOr5Jm5TwZKr"
      },
      "source": [
        "A seguir, iremos minimizar o erro do nosso modelo de regressão, treinando-o com os dados fornecidos.\n",
        "\n",
        "Para treinar nosso modelo de regressão linear, precisamos definir\n",
        "\n",
        "+ (i) o modelo,\n",
        "+ (ii) a função de erro e\n",
        "+ (iii) o procedimento (i.e., algoritmo) de treinamento."
      ]
    },
    {
      "cell_type": "markdown",
      "metadata": {
        "id": "SLCbfuwWSTSx"
      },
      "source": [
        "### Definindo o modelo de regressão linear\n",
        "\n",
        "O modelo definido abaixo através da classe `Model` representa a função hipótese $\\hat{y} = a_0 + a_1 x$.\n",
        "\n",
        "Portanto, o modelo gera um valor de $\\hat{y}$ para determinados $a_0$, $a_1$ e $x$ quando é chamado."
      ]
    },
    {
      "cell_type": "code",
      "execution_count": 195,
      "metadata": {
        "id": "JOKXLdtQYAn9"
      },
      "outputs": [],
      "source": [
        "# Definindo nosso palpite inicial.\n",
        "# Poderia ser qualquer valor, é aleatório.\n",
        "A0_INICIAL = 10.0\n",
        "A1_INICIAL = 10.0\n",
        "\n",
        "# Define nosso modelo de regressão.\n",
        "class Model(object):\n",
        "    def __init__(self, a0=A0_INICIAL, a1=A1_INICIAL):\n",
        "        # Inicializando os pesos como variáveis do Tensorflow, preciso definir como variaveis do tensorflow para calcular as derivadas.\n",
        "        self.a0 = tf.Variable(a0)\n",
        "        self.a1 = tf.Variable(a1)\n",
        "\n",
        "    # O método call é chamado toda a vez que passamos um valor de x para o modelo.\n",
        "    def __call__(self, x):\n",
        "        # Implementação da função hipótese.\n",
        "        return self.a0 + self.a1*x"
      ]
    },
    {
      "cell_type": "markdown",
      "metadata": {
        "id": "yaSBNf3JN9PM"
      },
      "source": [
        "**Observações**.:\n",
        "\n",
        "+ Dado uma valor de $x$, o método `__call__()` retorna um valor de $\\hat{y}$. Sabemos que o melhor formato para a função hipótese, ou seja, o modelo, é $\\hat{y} = a_0 + a_1 x$. Portanto, o método `__call__()` retorna `self.a0 + self.a1 * x`.\n",
        "+ O método `__call__()` é chamado implicitamente quando se passa a sequência de valores de $x$ para o objeto da classe `Model`."
      ]
    },
    {
      "cell_type": "markdown",
      "metadata": {
        "id": "qZyKjNZkbMXp"
      },
      "source": [
        "### Definindo a função de erro\n",
        "\n",
        "Em seguida, definimos nossa função de erro, que irá retornar o erro quadrático médio (MSE).\n",
        "\n",
        "A função do Tensorflow `tf.reduce_mean()` calcula a média do tensor (i.e., vetor/array) de entrada. Leia mais [aqui](https://www.tensorflow.org/api_docs/python/tf/math/reduce_mean).\n",
        "\n",
        "No caso do código abaixo, a função `tf.reduce_mean()` calcula a média dos erros individuais."
      ]
    },
    {
      "cell_type": "code",
      "execution_count": 196,
      "metadata": {
        "id": "jY0OplVNbWHx"
      },
      "outputs": [],
      "source": [
        "# Definindo nossa função de erro.\n",
        "def erro(predicted_y, target_y):\n",
        "    return tf.reduce_mean(tf.square(predicted_y - target_y))"
      ]
    },
    {
      "cell_type": "markdown",
      "metadata": {
        "id": "cJj1cxFadTDy"
      },
      "source": [
        "### Definindo o procedimento (algoritmo) de treinamento\n",
        "\n",
        "Aqui, o algoritmo do gradiente descendente é usado para o treinamento do modelo.\n",
        "\n",
        "Definimos uma função chamada `train` que executa **uma iteração do gradiente descendente** usando **TODAS** as amostras em nosso conjunto de dados (ou seja, usa todos os valores $x$ e $y$ disponíveis para treinamento).\n",
        "\n",
        "Uma iteração do algoritmo de otimização do gradiente descendente envolve:\n",
        "\n",
        "1. o cálculo do erro\n",
        "2. o cálculo das derivadas da função de erro em relação ao pesos individuais (i.e., $a_0$ e $a_1$)\n",
        "3. a atualização dos pesos do modelo com as derivadas calculadas (i.e., vetor gradiente)"
      ]
    },
    {
      "cell_type": "markdown",
      "metadata": {
        "id": "aDxqkMRskxx4"
      },
      "source": [
        "**Classe GradientTape**\n",
        "\n",
        "O cálculo das derivadas parciais da função de erro em relação aos pesos é feito automaticamente por um objeto da classe `GradientTape()` do TensorFlow.\n",
        "\n",
        "Você pode aprender mais sobre a classe `GradientTape()` em https://www.tensorflow.org/api_docs/python/tf/GradientTape"
      ]
    },
    {
      "cell_type": "code",
      "execution_count": 197,
      "metadata": {
        "id": "9fLQyjzVv4u3"
      },
      "outputs": [],
      "source": [
        "# Definindo o processo de treinamento (ou atualização dos pesos)\n",
        "def train(model, inputs, outputs, learning_rate):\n",
        "    with tf.GradientTape() as t:\n",
        "        # Erro para o atual par de pesos.\n",
        "        current_error = erro(model(inputs), outputs)\n",
        "\n",
        "        # Aqui é onde diferenciamos a função de erro em relação aos pesos do modelo.\n",
        "        da0, da1 = t.gradient(current_error, [model.a0, model.a1])      # derro/da0, derro/da1\n",
        "\n",
        "        # E aqui é onde atualizamos os pesos do modelo com base no passo de aprendizagem escolhido.\n",
        "        model.a0.assign_sub(learning_rate * da0)   # model.a0 = model.a0 - learning_rate*da0\n",
        "        model.a1.assign_sub(learning_rate * da1)   # model.a1 = model.a1 - learning_rate*da1\n",
        "\n",
        "        # Retorna o erro atual.\n",
        "        return current_error"
      ]
    },
    {
      "cell_type": "markdown",
      "metadata": {
        "id": "t9OVMTeQwIYy"
      },
      "source": [
        "### Treinando o modelo\n",
        "\n",
        "Agora que definimos todas as funções individuais que vamos precisar, é hora de juntá-las.\n",
        "\n",
        "Inicialmente, definimos o passo de aprendizagem e o número de épocas de treinamento.\n",
        "\n",
        "Em seguida, instanciamos o modelo.\n",
        "\n",
        "Na sequência, treinamos o modelo por várias épocas. Para cada época, calculamos e armazenamos os valores dos pesos ($a_0$ e $a_1$) e o erro.\n",
        "\n",
        "Observe a diminuição do erro à medida que as épocas passam."
      ]
    },
    {
      "cell_type": "code",
      "execution_count": 198,
      "metadata": {
        "colab": {
          "base_uri": "https://localhost:8080/"
        },
        "id": "NCPlW9FpwFgV",
        "outputId": "cbc5185e-1e71-4431-b068-83bebdef7d5f"
      },
      "outputs": [
        {
          "output_type": "stream",
          "name": "stdout",
          "text": [
            "Época  0: a0=10.00 a1=10.00, loss=715.66669\n",
            "Época  1: a0=5.40 a1=-1.57, loss=38.20575\n",
            "Época  2: a0=5.19 a1=0.20, loss=21.63014\n",
            "Época  3: a0=4.49 a1=0.20, loss=17.24073\n",
            "Época  4: a0=3.93 a1=0.41, loss=13.86214\n",
            "Época  5: a0=3.42 a1=0.57, loss=11.14769\n",
            "Época  6: a0=2.97 a1=0.72, loss=8.96482\n",
            "Época  7: a0=2.56 a1=0.85, loss=7.20938\n",
            "Época  8: a0=2.19 a1=0.97, loss=5.79768\n",
            "Época  9: a0=1.86 a1=1.08, loss=4.66241\n",
            "Época 10: a0=1.57 a1=1.17, loss=3.74944\n",
            "Época 11: a0=1.30 a1=1.26, loss=3.01525\n",
            "Época 12: a0=1.06 a1=1.33, loss=2.42482\n",
            "Época 13: a0=0.85 a1=1.40, loss=1.95001\n",
            "Época 14: a0=0.66 a1=1.46, loss=1.56817\n",
            "Época 15: a0=0.49 a1=1.52, loss=1.26110\n",
            "Época 16: a0=0.33 a1=1.57, loss=1.01416\n",
            "Época 17: a0=0.20 a1=1.61, loss=0.81557\n",
            "Época 18: a0=0.07 a1=1.65, loss=0.65587\n",
            "Época 19: a0=-0.04 a1=1.69, loss=0.52744\n",
            "Época 20: a0=-0.14 a1=1.72, loss=0.42416\n",
            "Época 21: a0=-0.23 a1=1.75, loss=0.34110\n",
            "Época 22: a0=-0.31 a1=1.78, loss=0.27431\n",
            "Época 23: a0=-0.38 a1=1.80, loss=0.22060\n",
            "Época 24: a0=-0.44 a1=1.82, loss=0.17740\n",
            "Época 25: a0=-0.50 a1=1.84, loss=0.14266\n",
            "Época 26: a0=-0.55 a1=1.86, loss=0.11473\n",
            "Época 27: a0=-0.60 a1=1.87, loss=0.09226\n",
            "Época 28: a0=-0.64 a1=1.88, loss=0.07420\n",
            "Época 29: a0=-0.68 a1=1.90, loss=0.05967\n",
            "Época 30: a0=-0.71 a1=1.91, loss=0.04798\n",
            "Época 31: a0=-0.74 a1=1.92, loss=0.03859\n",
            "Época 32: a0=-0.77 a1=1.92, loss=0.03103\n",
            "Época 33: a0=-0.79 a1=1.93, loss=0.02496\n",
            "Época 34: a0=-0.81 a1=1.94, loss=0.02007\n",
            "Época 35: a0=-0.83 a1=1.95, loss=0.01614\n",
            "Época 36: a0=-0.85 a1=1.95, loss=0.01298\n",
            "Época 37: a0=-0.86 a1=1.96, loss=0.01044\n",
            "Época 38: a0=-0.88 a1=1.96, loss=0.00839\n",
            "Época 39: a0=-0.89 a1=1.96, loss=0.00675\n",
            "Época 40: a0=-0.90 a1=1.97, loss=0.00543\n",
            "Época 41: a0=-0.91 a1=1.97, loss=0.00437\n",
            "Época 42: a0=-0.92 a1=1.97, loss=0.00351\n",
            "Época 43: a0=-0.93 a1=1.98, loss=0.00282\n",
            "Época 44: a0=-0.94 a1=1.98, loss=0.00227\n",
            "Época 45: a0=-0.94 a1=1.98, loss=0.00183\n",
            "Época 46: a0=-0.95 a1=1.98, loss=0.00147\n",
            "Época 47: a0=-0.95 a1=1.99, loss=0.00118\n",
            "Época 48: a0=-0.96 a1=1.99, loss=0.00095\n",
            "Época 49: a0=-0.96 a1=1.99, loss=0.00076\n",
            "Época 50: a0=-0.97 a1=1.99, loss=0.00061\n",
            "Época 51: a0=-0.97 a1=1.99, loss=0.00049\n",
            "Época 52: a0=-0.97 a1=1.99, loss=0.00040\n",
            "Época 53: a0=-0.98 a1=1.99, loss=0.00032\n",
            "Época 54: a0=-0.98 a1=1.99, loss=0.00026\n",
            "Época 55: a0=-0.98 a1=1.99, loss=0.00021\n",
            "Época 56: a0=-0.98 a1=1.99, loss=0.00017\n",
            "Época 57: a0=-0.98 a1=2.00, loss=0.00013\n",
            "Época 58: a0=-0.99 a1=2.00, loss=0.00011\n",
            "Época 59: a0=-0.99 a1=2.00, loss=0.00009\n",
            "Época 60: a0=-0.99 a1=2.00, loss=0.00007\n",
            "Época 61: a0=-0.99 a1=2.00, loss=0.00006\n",
            "Época 62: a0=-0.99 a1=2.00, loss=0.00004\n",
            "Época 63: a0=-0.99 a1=2.00, loss=0.00004\n",
            "Época 64: a0=-0.99 a1=2.00, loss=0.00003\n",
            "Época 65: a0=-0.99 a1=2.00, loss=0.00002\n",
            "Época 66: a0=-0.99 a1=2.00, loss=0.00002\n",
            "Época 67: a0=-0.99 a1=2.00, loss=0.00002\n",
            "Época 68: a0=-1.00 a1=2.00, loss=0.00001\n",
            "Época 69: a0=-1.00 a1=2.00, loss=0.00001\n",
            "Época 70: a0=-1.00 a1=2.00, loss=0.00001\n",
            "Época 71: a0=-1.00 a1=2.00, loss=0.00001\n",
            "Época 72: a0=-1.00 a1=2.00, loss=0.00001\n",
            "Época 73: a0=-1.00 a1=2.00, loss=0.00000\n",
            "Época 74: a0=-1.00 a1=2.00, loss=0.00000\n",
            "Época 75: a0=-1.00 a1=2.00, loss=0.00000\n",
            "Época 76: a0=-1.00 a1=2.00, loss=0.00000\n",
            "Época 77: a0=-1.00 a1=2.00, loss=0.00000\n",
            "Época 78: a0=-1.00 a1=2.00, loss=0.00000\n",
            "Época 79: a0=-1.00 a1=2.00, loss=0.00000\n",
            "Época 80: a0=-1.00 a1=2.00, loss=0.00000\n",
            "Época 81: a0=-1.00 a1=2.00, loss=0.00000\n",
            "Época 82: a0=-1.00 a1=2.00, loss=0.00000\n",
            "Época 83: a0=-1.00 a1=2.00, loss=0.00000\n",
            "Época 84: a0=-1.00 a1=2.00, loss=0.00000\n",
            "Época 85: a0=-1.00 a1=2.00, loss=0.00000\n",
            "Época 86: a0=-1.00 a1=2.00, loss=0.00000\n",
            "Época 87: a0=-1.00 a1=2.00, loss=0.00000\n",
            "Época 88: a0=-1.00 a1=2.00, loss=0.00000\n",
            "Época 89: a0=-1.00 a1=2.00, loss=0.00000\n",
            "Época 90: a0=-1.00 a1=2.00, loss=0.00000\n",
            "Época 91: a0=-1.00 a1=2.00, loss=0.00000\n",
            "Época 92: a0=-1.00 a1=2.00, loss=0.00000\n",
            "Época 93: a0=-1.00 a1=2.00, loss=0.00000\n",
            "Época 94: a0=-1.00 a1=2.00, loss=0.00000\n",
            "Época 95: a0=-1.00 a1=2.00, loss=0.00000\n",
            "Época 96: a0=-1.00 a1=2.00, loss=0.00000\n",
            "Época 97: a0=-1.00 a1=2.00, loss=0.00000\n",
            "Época 98: a0=-1.00 a1=2.00, loss=0.00000\n",
            "Época 99: a0=-1.00 a1=2.00, loss=0.00000\n"
          ]
        }
      ],
      "source": [
        "# Passo de aprendizagem.\n",
        "LEARNING_RATE = 0.1\n",
        "\n",
        "# Número de épocas.\n",
        "epochs = 100\n",
        "\n",
        "# Instancia o modelo.\n",
        "model = Model()\n",
        "\n",
        "# Coletando o histórico de valores a0 e a1 para plotar mais tarde.\n",
        "list_a0, list_a1 = [], []\n",
        "erros = []\n",
        "\n",
        "# Laço (loop) de treinamento.\n",
        "for epoch in range(epochs):\n",
        "\n",
        "    # Armazena os valores dos pesos.\n",
        "    list_a0.append(model.a0.numpy())\n",
        "    list_a1.append(model.a1.numpy())\n",
        "\n",
        "    # Iteração de treinamento.\n",
        "    current_error = train(model, x, y, learning_rate=LEARNING_RATE)\n",
        "\n",
        "    # Armzena os erros ao longo das épocas de treinamento.\n",
        "    erros.append(current_error)\n",
        "\n",
        "    # Imprime os erros ao longo das épocas de treinamento.\n",
        "    print('Época %2d: a0=%1.2f a1=%1.2f, loss=%2.5f' % (epoch, list_a0[-1], list_a1[-1], current_error))"
      ]
    },
    {
      "cell_type": "markdown",
      "metadata": {
        "id": "6afLtlyRwR-x"
      },
      "source": [
        "### Plotando os valores dos pesos ao longo das épocas de treinamento.\n",
        "\n",
        "O gráfico abaixo mostra os valores dos pesos do modelo $a_0$ e $a_1$ (eixo y) ao longo das épocas (eixo x).\n",
        "\n",
        "\n",
        "À medida que o modelo é treinado, observe como os valores de $a_0$ e $a_1$ convergem para os valores verdadeiros -1.0 e 2.0, respectivamente."
      ]
    },
    {
      "cell_type": "code",
      "execution_count": 199,
      "metadata": {
        "colab": {
          "base_uri": "https://localhost:8080/",
          "height": 451
        },
        "id": "50uecDpHwPGV",
        "outputId": "94dbf57f-8b17-44fa-ea44-f2349f4fe818"
      },
      "outputs": [
        {
          "output_type": "display_data",
          "data": {
            "text/plain": [
              "<Figure size 640x480 with 1 Axes>"
            ],
            "image/png": "[encoded data removed]"
          },
          "metadata": {}
        }
      ],
      "source": [
        "# Plote os valores de a0 e a1 para cada época de treinamento em relação aos valores verdadeiros.\n",
        "TRUE_a0 = -1.0\n",
        "TRUE_a1 = 2.0\n",
        "\n",
        "xaxis = range(epochs)\n",
        "plt.plot(xaxis, list_a0, 'r', xaxis, list_a1, 'b')\n",
        "plt.plot([TRUE_a0] * epochs, 'r--', [TRUE_a1] * epochs, 'b--')\n",
        "plt.legend(['a0', 'a1', 'a0 verdadeiro', 'a1 verdadeiro'])\n",
        "plt.xlabel('Épocas')\n",
        "plt.ylabel('Valor do peso')\n",
        "plt.grid()\n",
        "plt.show()"
      ]
    },
    {
      "cell_type": "markdown",
      "metadata": {
        "id": "keL0nrDa2d2P"
      },
      "source": [
        "**Observação**\n",
        "\n",
        "+ Os pesos do modelo ainda estão distantes dos valores originais."
      ]
    },
    {
      "cell_type": "markdown",
      "metadata": {
        "id": "UtEhd1N1L7CZ"
      },
      "source": [
        "### Plotando o MSE ao longo das épocas de treinamento\n",
        "\n",
        "O gráfico abaixo mostra o MSE ao longo do treinamento do modelo."
      ]
    },
    {
      "cell_type": "code",
      "execution_count": 200,
      "metadata": {
        "colab": {
          "base_uri": "https://localhost:8080/",
          "height": 451
        },
        "id": "-IClvkEoKzSR",
        "outputId": "282d46a5-cd73-4bbc-94f2-cdd421855993"
      },
      "outputs": [
        {
          "output_type": "display_data",
          "data": {
            "text/plain": [
              "<Figure size 640x480 with 1 Axes>"
            ],
            "image/png": "[encoded data removed]"
          },
          "metadata": {}
        }
      ],
      "source": [
        "plt.plot(range(epochs), erros)\n",
        "plt.xlabel('Épocas')\n",
        "plt.ylabel('MSE')\n",
        "plt.grid()\n",
        "plt.show()"
      ]
    },
    {
      "cell_type": "markdown",
      "metadata": {
        "id": "nc9FFljo2d2P"
      },
      "source": [
        "**Observação**\n",
        "\n",
        "+ Como os dados não contêm ruído, percebe-se que o erro ainda não convergiu para um erro igual a 0.\n",
        "+ O que podemos fazer?\n",
        "\n",
        "-Mudar o passo de aprendizagem e a quantidade de épocas!!!!!!!!!"
      ]
    },
    {
      "cell_type": "markdown",
      "metadata": {
        "id": "HcutcM3A2d2P"
      },
      "source": [
        "### Comparando os dados com a função hipótese"
      ]
    },
    {
      "cell_type": "code",
      "execution_count": 201,
      "metadata": {
        "id": "8RtAZ_6e2d2P",
        "outputId": "d0fbf88c-3fd1-4cac-fe7a-214fecaa86d5",
        "colab": {
          "base_uri": "https://localhost:8080/",
          "height": 430
        }
      },
      "outputs": [
        {
          "output_type": "display_data",
          "data": {
            "text/plain": [
              "<Figure size 640x480 with 1 Axes>"
            ],
            "image/png": "[encoded data removed]"
          },
          "metadata": {}
        }
      ],
      "source": [
        "# valores esperados\n",
        "plt.scatter(x, y, color='blue', label='Valores esperados')\n",
        "# valores preditos\n",
        "plt.scatter(x, model(x), marker='x', color='green', label='Valores preditos')\n",
        "plt.legend()\n",
        "plt.grid()\n",
        "plt.show()"
      ]
    }
  ],
  "metadata": {
    "colab": {
      "provenance": []
    },
    "kernelspec": {
      "display_name": "Python 3 (ipykernel)",
      "language": "python",
      "name": "python3"
    },
    "language_info": {
      "codemirror_mode": {
        "name": "ipython",
        "version": 3
      },
      "file_extension": ".py",
      "mimetype": "text/x-python",
      "name": "python",
      "nbconvert_exporter": "python",
      "pygments_lexer": "ipython3",
      "version": "3.10.9"
    }
  },
  "nbformat": 4,
  "nbformat_minor": 0
}